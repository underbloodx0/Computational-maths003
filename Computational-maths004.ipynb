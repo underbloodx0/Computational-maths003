{
 "cells": [
  {
   "cell_type": "code",
   "execution_count": 2,
   "id": "initial_id",
   "metadata": {
    "collapsed": true,
    "ExecuteTime": {
     "end_time": "2024-01-30T22:48:00.336825200Z",
     "start_time": "2024-01-30T22:48:00.086827200Z"
    }
   },
   "outputs": [
    {
     "name": "stdout",
     "output_type": "stream",
     "text": [
      "Random Number: 9\n"
     ]
    }
   ],
   "source": [
    "import random\n",
    "def generate_random_number():\n",
    "    #Generate  a random number between 1 and 10\n",
    "    random_number = random.randint(1, 10)\n",
    "    return random_number\n",
    "#Call the function and print the result\n",
    "random_result = generate_random_number()\n",
    "print(f\"Random Number: {random_result}\")"
   ]
  },
  {
   "cell_type": "markdown",
   "source": [
    "Shows in an array the numbers ordered from the most to the least repeated of a matrix in python"
   ],
   "metadata": {
    "collapsed": false
   },
   "id": "ca4a60227170585d"
  },
  {
   "cell_type": "code",
   "execution_count": 13,
   "outputs": [
    {
     "name": "stdout",
     "output_type": "stream",
     "text": [
      "Numbers ordered from most to least repeated:  [1, 2, 3, 4]\n"
     ]
    }
   ],
   "source": [
    "from collections import Counter\n",
    "\n",
    "def most_to_least_repeated(matrix):\n",
    "    #Flatten the matrix into a list\n",
    "    flattened_list = [num for row in matrix for num in row]\n",
    "    \n",
    "    #Count the occurrences of each number\n",
    "    count_dict = Counter(flattened_list)\n",
    "    \n",
    "    #Sort the numbers based on their frequency in descending order\n",
    "    sorted_numbers = sorted(count_dict, key=lambda x: count_dict[x], reverse=True)\n",
    "    return sorted_numbers\n",
    "#example matrix\n",
    "example_matrix = [\n",
    "    [1,2,3,4],\n",
    "    [1,2,3,4],\n",
    "    [1,2,3,4],\n",
    "    [1,2,3,4]\n",
    "]\n",
    "#get the sorted numbers based on frequency\n",
    "sorted_numbers = most_to_least_repeated(example_matrix)\n",
    "\n",
    "#Print the result\n",
    "print(\"Numbers ordered from most to least repeated: \",sorted_numbers)"
   ],
   "metadata": {
    "collapsed": false,
    "ExecuteTime": {
     "end_time": "2024-01-30T22:52:01.122171600Z",
     "start_time": "2024-01-30T22:52:01.074170300Z"
    }
   },
   "id": "b715efca4ede593e"
  },
  {
   "cell_type": "markdown",
   "source": [
    "Bubble Sort"
   ],
   "metadata": {
    "collapsed": false
   },
   "id": "c873074f2615d3d4"
  },
  {
   "cell_type": "code",
   "execution_count": 16,
   "outputs": [
    {
     "name": "stdout",
     "output_type": "stream",
     "text": [
      "Given array is: \n",
      "[46, 27, 87, 23, 28, 84, 12, 45, 99, 76, 68, 2, 37, 96, 17, 79, 48, 42, 35, 5, 33, 85, 67, 92, 20, 26, 40, 19, 73, 1, 82, 41, 34, 47, 4, 53, 65, 81, 49, 43, 91, 25, 13, 69, 16, 39, 58, 21, 44, 51]\n",
      "The array after sorting with Bubble Sort: \n",
      "[12, 2, 5, 17, 23, 28, 27, 35, 20, 37, 19, 33, 48, 26, 42, 45, 1, 40, 46, 4, 34, 13, 68, 41, 25, 43, 67, 73, 84, 53, 76, 47, 79, 16, 49, 87, 65, 91, 92, 85, 81, 82, 39, 21, 96, 58, 69, 44, 99, 51]\n",
      "The array after sorting with Bubble Sort: \n",
      "[12, 2, 5, 17, 23, 28, 27, 35, 20, 37, 19, 33, 48, 26, 42, 45, 1, 40, 46, 4, 34, 13, 68, 41, 25, 43, 67, 73, 84, 53, 76, 47, 79, 16, 49, 87, 65, 91, 92, 85, 81, 82, 39, 21, 96, 58, 69, 44, 99, 51]\n",
      "Given array is: \n",
      "[12, 69, 95, 26, 22, 57, 66, 84, 7, 33, 32, 6, 29, 0, 25, 73, 54, 83, 58, 74, 89, 88, 47, 41, 45, 91, 94, 50, 63, 20, 30, 10, 14, 97, 1, 79, 75, 82, 67, 98, 40, 52, 35, 18, 21, 5, 43, 4, 53, 44]\n",
      "The array after sorting with (optimized) Bubble Sort: \n",
      "[0, 1, 4, 5, 6, 7, 10, 12, 14, 18, 20, 21, 22, 25, 26, 29, 30, 32, 33, 35, 40, 41, 43, 44, 45, 47, 50, 52, 53, 54, 57, 58, 63, 66, 67, 69, 73, 74, 75, 79, 82, 83, 84, 88, 89, 91, 94, 95, 97, 98]\n"
     ]
    }
   ],
   "source": [
    "# Bubble Sort\n",
    "def bubbleSort(array):\n",
    "    for i in range(len(array)):\n",
    "        #loop to compare array elements\n",
    "        for j in range(len(array) -i -1):\n",
    "            #compare two adjacent elements\n",
    "            #compare > to < to sort in descending order\n",
    "            if array[j] > array[j+i]:\n",
    "                #swapping elements if they are not in the correct order\n",
    "                temp = array[j]\n",
    "                array[j] = array[j+1]\n",
    "                array[j+1] = temp\n",
    "#test\n",
    "array = random.sample(range(0,100),50)\n",
    "print(\"Given array is: \")\n",
    "print(array)\n",
    "\n",
    "bubbleSort(array)\n",
    "\n",
    "print('The array after sorting with Bubble Sort: ')\n",
    "print(array)\n",
    "\n",
    "print('The array after sorting with Bubble Sort: ')\n",
    "print(array)\n",
    "\n",
    "#Optimized Bubble Sort\n",
    "def bubbleSort_opt(array):\n",
    "    for i in range(len(array)):\n",
    "        num_swaps = 0\n",
    "        #loop to compare array elements\n",
    "        for j in range(len(array) -i -1):\n",
    "            #compare two adjacent elements\n",
    "            #change > to < to sort in descending order\n",
    "            if array[j] > array[j+1]:\n",
    "                #swapping elements if they are not in the intended order\n",
    "                temp = array[j]\n",
    "                array[j] = array[j+1]\n",
    "                array[j+1] = temp\n",
    "                #increment num_swaps\n",
    "                num_swaps = num_swaps+1\n",
    "        if num_swaps == 0:\n",
    "            return\n",
    "#test\n",
    "array = random.sample(range(0,100),50)\n",
    "print(\"Given array is: \")\n",
    "print(array)\n",
    "\n",
    "bubbleSort_opt(array)\n",
    "print('The array after sorting with (optimized) Bubble Sort: ')\n",
    "print(array)"
   ],
   "metadata": {
    "collapsed": false,
    "ExecuteTime": {
     "end_time": "2024-01-31T02:56:09.676404900Z",
     "start_time": "2024-01-31T02:56:09.654404100Z"
    }
   },
   "id": "708dc26888bb2885"
  }
 ],
 "metadata": {
  "kernelspec": {
   "display_name": "Python 3",
   "language": "python",
   "name": "python3"
  },
  "language_info": {
   "codemirror_mode": {
    "name": "ipython",
    "version": 2
   },
   "file_extension": ".py",
   "mimetype": "text/x-python",
   "name": "python",
   "nbconvert_exporter": "python",
   "pygments_lexer": "ipython2",
   "version": "2.7.6"
  }
 },
 "nbformat": 4,
 "nbformat_minor": 5
}
