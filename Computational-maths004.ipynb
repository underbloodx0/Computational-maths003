{
 "cells": [
  {
   "cell_type": "code",
   "execution_count": 2,
   "id": "initial_id",
   "metadata": {
    "collapsed": true,
    "ExecuteTime": {
     "end_time": "2024-01-30T22:48:00.336825200Z",
     "start_time": "2024-01-30T22:48:00.086827200Z"
    }
   },
   "outputs": [
    {
     "name": "stdout",
     "output_type": "stream",
     "text": [
      "Random Number: 9\n"
     ]
    }
   ],
   "source": [
    "import random\n",
    "def generate_random_number():\n",
    "    #Generate  a random number between 1 and 10\n",
    "    random_number = random.randint(1, 10)\n",
    "    return random_number\n",
    "#Call the function and print the result\n",
    "random_result = generate_random_number()\n",
    "print(f\"Random Number: {random_result}\")"
   ]
  },
  {
   "cell_type": "markdown",
   "source": [
    "Shows in an array the numbers ordered from the most to the least repeated of a matrix in python"
   ],
   "metadata": {
    "collapsed": false
   },
   "id": "ca4a60227170585d"
  },
  {
   "cell_type": "code",
   "execution_count": 13,
   "outputs": [
    {
     "name": "stdout",
     "output_type": "stream",
     "text": [
      "Numbers ordered from most to least repeated:  [1, 2, 3, 4]\n"
     ]
    }
   ],
   "source": [
    "from collections import Counter\n",
    "\n",
    "def most_to_least_repeated(matrix):\n",
    "    #Flatten the matrix into a list\n",
    "    flattened_list = [num for row in matrix for num in row]\n",
    "    \n",
    "    #Count the occurrences of each number\n",
    "    count_dict = Counter(flattened_list)\n",
    "    \n",
    "    #Sort the numbers based on their frequency in descending order\n",
    "    sorted_numbers = sorted(count_dict, key=lambda x: count_dict[x], reverse=True)\n",
    "    return sorted_numbers\n",
    "#example matrix\n",
    "example_matrix = [\n",
    "    [1,2,3,4],\n",
    "    [1,2,3,4],\n",
    "    [1,2,3,4],\n",
    "    [1,2,3,4]\n",
    "]\n",
    "#get the sorted numbers based on frequency\n",
    "sorted_numbers = most_to_least_repeated(example_matrix)\n",
    "\n",
    "#Print the result\n",
    "print(\"Numbers ordered from most to least repeated: \",sorted_numbers)"
   ],
   "metadata": {
    "collapsed": false,
    "ExecuteTime": {
     "end_time": "2024-01-30T22:52:01.122171600Z",
     "start_time": "2024-01-30T22:52:01.074170300Z"
    }
   },
   "id": "b715efca4ede593e"
  },
  {
   "cell_type": "markdown",
   "source": [
    "Bubble Sort"
   ],
   "metadata": {
    "collapsed": false
   },
   "id": "c873074f2615d3d4"
  },
  {
   "cell_type": "code",
   "execution_count": 2,
   "outputs": [
    {
     "name": "stdout",
     "output_type": "stream",
     "text": [
      "Given array is: \n",
      "[24, 2, 29, 92, 36, 56, 10, 22, 75, 1, 97, 94, 55, 50, 60, 49, 90, 89, 40, 21, 81, 0, 46, 88, 20, 27, 69, 73, 32, 82, 57, 72, 93, 8, 37, 4, 39, 61, 47, 65, 95, 25, 78, 33, 52, 9, 31, 84, 51, 30]\n",
      "The array after sorting with Bubble Sort: \n",
      "[2, 1, 10, 0, 24, 22, 21, 29, 8, 20, 36, 27, 50, 46, 55, 60, 73, 4, 49, 56, 32, 40, 37, 39, 57, 75, 82, 81, 47, 69, 65, 88, 61, 25, 89, 33, 9, 92, 72, 93, 90, 31, 52, 95, 94, 78, 84, 51, 97, 30]\n",
      "The array after sorting with Bubble Sort: \n",
      "[2, 1, 10, 0, 24, 22, 21, 29, 8, 20, 36, 27, 50, 46, 55, 60, 73, 4, 49, 56, 32, 40, 37, 39, 57, 75, 82, 81, 47, 69, 65, 88, 61, 25, 89, 33, 9, 92, 72, 93, 90, 31, 52, 95, 94, 78, 84, 51, 97, 30]\n",
      "Given array is: \n",
      "[92, 4, 94, 85, 7, 27, 29, 70, 50, 39, 56, 34, 8, 59, 86, 44, 22, 60, 42, 62, 83, 1, 3, 98, 55, 41, 43, 9, 12, 90, 15, 84, 71, 57, 49, 75, 81, 23, 96, 38, 65, 58, 5, 19, 66, 47, 91, 25, 37, 54]\n",
      "The array after sorting with (optimized) Bubble Sort: \n",
      "[1, 3, 4, 5, 7, 8, 9, 12, 15, 19, 22, 23, 25, 27, 29, 34, 37, 38, 39, 41, 42, 43, 44, 47, 49, 50, 54, 55, 56, 57, 58, 59, 60, 62, 65, 66, 70, 71, 75, 81, 83, 84, 85, 86, 90, 91, 92, 94, 96, 98]\n"
     ]
    }
   ],
   "source": [
    "# Bubble Sort\n",
    "import random\n",
    "def bubbleSort(array):\n",
    "    for i in range(len(array)):\n",
    "        #loop to compare array elements\n",
    "        for j in range(len(array) -i -1):\n",
    "            #compare two adjacent elements\n",
    "            #compare > to < to sort in descending order\n",
    "            if array[j] > array[j+i]:\n",
    "                #swapping elements if they are not in the correct order\n",
    "                temp = array[j]\n",
    "                array[j] = array[j+1]\n",
    "                array[j+1] = temp\n",
    "#test\n",
    "array = random.sample(range(0,100),50)\n",
    "print(\"Given array is: \")\n",
    "print(array)\n",
    "\n",
    "bubbleSort(array)\n",
    "\n",
    "print('The array after sorting with Bubble Sort: ')\n",
    "print(array)\n",
    "\n",
    "print('The array after sorting with Bubble Sort: ')\n",
    "print(array)\n",
    "\n",
    "#Optimized Bubble Sort\n",
    "def bubbleSort_opt(array):\n",
    "    for i in range(len(array)):\n",
    "        num_swaps = 0\n",
    "        #loop to compare array elements\n",
    "        for j in range(len(array) -i -1):\n",
    "            #compare two adjacent elements\n",
    "            #change > to < to sort in descending order\n",
    "            if array[j] > array[j+1]:\n",
    "                #swapping elements if they are not in the intended order\n",
    "                temp = array[j]\n",
    "                array[j] = array[j+1]\n",
    "                array[j+1] = temp\n",
    "                #increment num_swaps\n",
    "                num_swaps = num_swaps+1\n",
    "        if num_swaps == 0:\n",
    "            return\n",
    "#test\n",
    "array = random.sample(range(0,100),50)\n",
    "print(\"Given array is: \")\n",
    "print(array)\n",
    "\n",
    "bubbleSort_opt(array)\n",
    "print('The array after sorting with (optimized) Bubble Sort: ')\n",
    "print(array)"
   ],
   "metadata": {
    "collapsed": false,
    "ExecuteTime": {
     "end_time": "2024-02-02T16:48:54.849586900Z",
     "start_time": "2024-02-02T16:48:54.666584600Z"
    }
   },
   "id": "708dc26888bb2885"
  },
  {
   "cell_type": "markdown",
   "source": [
    "Example new 2 "
   ],
   "metadata": {
    "collapsed": false
   },
   "id": "92ec89ac3c01d646"
  },
  {
   "cell_type": "code",
   "outputs": [
    {
     "name": "stdout",
     "output_type": "stream",
     "text": [
      "Random number: 1\n"
     ]
    }
   ],
   "source": [
    "import random\n",
    "\n",
    "# Generate a random number between 1 and 10\n",
    "random_number = random.randint(1, 10)\n",
    "\n",
    "print(\"Random number:\", random_number)"
   ],
   "metadata": {
    "collapsed": false,
    "ExecuteTime": {
     "end_time": "2024-02-03T02:55:57.272247865Z",
     "start_time": "2024-02-03T02:55:56.067185123Z"
    }
   },
   "id": "170d4acbc87494fd",
   "execution_count": 7
  },
  {
   "cell_type": "markdown",
   "source": [
    "Example new 3"
   ],
   "metadata": {
    "collapsed": false
   },
   "id": "4ea051cc92a1e6b7"
  },
  {
   "cell_type": "code",
   "execution_count": 4,
   "outputs": [
    {
     "name": "stdout",
     "output_type": "stream",
     "text": [
      "Original Array: [1 2 3 4 5]\n",
      "Array after multiplication: [ 2  4  6  8 10]\n",
      "Array after addition: [ 3  6  9 12 15]\n",
      "Mean: 3.0\n",
      "Standard Deviation: 1.4142135623730951\n"
     ]
    }
   ],
   "source": [
    "import numpy as np\n",
    "\n",
    "# Create a NumPy array\n",
    "array1 = np.array([1, 2, 3, 4, 5])\n",
    "\n",
    "# Perform basic operations on the array\n",
    "array2 = array1 * 2\n",
    "array3 = array1 + array2\n",
    "\n",
    "# Calculate the mean and standard deviation of the array\n",
    "mean_value = np.mean(array1)\n",
    "std_dev = np.std(array1)\n",
    "\n",
    "# Display the results\n",
    "print(\"Original Array:\", array1)\n",
    "print(\"Array after multiplication:\", array2)\n",
    "print(\"Array after addition:\", array3)\n",
    "print(\"Mean:\", mean_value)\n",
    "print(\"Standard Deviation:\", std_dev)"
   ],
   "metadata": {
    "collapsed": false,
    "ExecuteTime": {
     "end_time": "2024-02-03T03:20:09.994578200Z",
     "start_time": "2024-02-03T03:20:09.973566800Z"
    }
   },
   "id": "29034f442c047f33"
  },
  {
   "cell_type": "markdown",
   "source": [
    "Example new 4"
   ],
   "metadata": {
    "collapsed": false
   },
   "id": "fb5b95aae4b56f99"
  },
  {
   "cell_type": "code",
   "outputs": [
    {
     "name": "stdout",
     "output_type": "stream",
     "text": [
      "Random float between 0 and 1: 0.7158570619810933\n"
     ]
    }
   ],
   "source": [
    "import random\n",
    "\n",
    "random_float = random.random()\n",
    "print(\"Random float between 0 and 1:\", random_float)"
   ],
   "metadata": {
    "collapsed": false,
    "ExecuteTime": {
     "end_time": "2024-02-03T03:59:58.466145575Z",
     "start_time": "2024-02-03T03:59:57.439575935Z"
    }
   },
   "id": "c0d90b920a82d8c5",
   "execution_count": 8
  },
  {
   "cell_type": "markdown",
   "source": [
    "Example new 5"
   ],
   "metadata": {
    "collapsed": false
   },
   "id": "41c9c48396c0da5f"
  },
  {
   "cell_type": "code",
   "execution_count": 5,
   "outputs": [
    {
     "name": "stdout",
     "output_type": "stream",
     "text": [
      "Matrix 1:\n",
      "[[1 2]\n",
      " [3 4]]\n",
      "Matrix 2:\n",
      "[[5 6]\n",
      " [7 8]]\n",
      "\n",
      "Result of Matrix Multiplication:\n",
      "[[19 22]\n",
      " [43 50]]\n"
     ]
    }
   ],
   "source": [
    "import numpy as np\n",
    "\n",
    "#Create two matrices\n",
    "matrix1 = np.array([[1,2], [3,4]])\n",
    "matrix2 = np.array([[5,6], [7,8]])\n",
    "\n",
    "#Perform matrix multiplication\n",
    "result = np.dot(matrix1, matrix2)\n",
    "\n",
    "print(\"Matrix 1:\")\n",
    "print(matrix1)\n",
    "\n",
    "print(\"Matrix 2:\")\n",
    "print(matrix2)\n",
    "\n",
    "print(\"\\nResult of Matrix Multiplication:\")\n",
    "print(result)"
   ],
   "metadata": {
    "collapsed": false,
    "ExecuteTime": {
     "end_time": "2024-02-03T04:12:03.240768Z",
     "start_time": "2024-02-03T04:12:03.107767400Z"
    }
   },
   "id": "2428fa2061377898"
  },
  {
   "cell_type": "markdown",
   "source": [
    "Example New 6"
   ],
   "metadata": {
    "collapsed": false
   },
   "id": "e950c515bfe6c47f"
  },
  {
   "cell_type": "code",
   "outputs": [
    {
     "name": "stdout",
     "output_type": "stream",
     "text": [
      "Random integer between 20 and 50:  31\n"
     ]
    }
   ],
   "source": [
    "import random\n",
    "\n",
    "random_int_range = random.randint(20,50)\n",
    "print(\"Random integer between 20 and 50: \", random_int_range)"
   ],
   "metadata": {
    "collapsed": false,
    "ExecuteTime": {
     "end_time": "2024-02-03T04:22:38.250428291Z",
     "start_time": "2024-02-03T04:22:36.266867184Z"
    }
   },
   "id": "677279b4bac33fa1",
   "execution_count": 9
  },
  {
   "cell_type": "markdown",
   "source": [
    "Example New 7"
   ],
   "metadata": {
    "collapsed": false
   },
   "id": "584f4aaf4a3b00e5"
  },
  {
   "cell_type": "code",
   "execution_count": 6,
   "outputs": [
    {
     "name": "stdout",
     "output_type": "stream",
     "text": [
      "Random Numbers:\n",
      "[[0.08815338 0.48957245 0.49810905]\n",
      " [0.33174853 0.96825216 0.43746005]\n",
      " [0.41263338 0.62286452 0.51306564]]\n"
     ]
    }
   ],
   "source": [
    "import numpy as np\n",
    "\n",
    "#Generate an array of random numbers\n",
    "random_numbers = np.random.rand(3,3)\n",
    "\n",
    "print(\"Random Numbers:\")\n",
    "print(random_numbers)"
   ],
   "metadata": {
    "collapsed": false,
    "ExecuteTime": {
     "end_time": "2024-02-03T04:29:56.212798700Z",
     "start_time": "2024-02-03T04:29:55.748800300Z"
    }
   },
   "id": "c7e197794532721a"
  },
  {
   "cell_type": "markdown",
   "source": [
    "Example New 8"
   ],
   "metadata": {
    "collapsed": false
   },
   "id": "4997e8fe7a0ffdbf"
  },
  {
   "cell_type": "code",
   "outputs": [
    {
     "name": "stdout",
     "output_type": "stream",
     "text": [
      "Shuffled list:  [1, 5, 2, 3, 4]\n"
     ]
    }
   ],
   "source": [
    "import random\n",
    "\n",
    "my_list = [1,2,3,4,5]\n",
    "random.shuffle(my_list)\n",
    "print(\"Shuffled list: \", my_list)"
   ],
   "metadata": {
    "collapsed": false,
    "ExecuteTime": {
     "end_time": "2024-02-03T04:42:31.653383988Z",
     "start_time": "2024-02-03T04:42:31.533256752Z"
    }
   },
   "id": "868b7f7837f38afb",
   "execution_count": 10
  },
  {
   "cell_type": "markdown",
   "source": [
    "Example New 9"
   ],
   "metadata": {
    "collapsed": false
   },
   "id": "9f907b92f6bf11d6"
  },
  {
   "cell_type": "code",
   "outputs": [
    {
     "name": "stdout",
     "output_type": "stream",
     "text": [
      "Randomly chosen fruit:  apple\n"
     ]
    }
   ],
   "source": [
    "import random\n",
    "fruits = [\"apple\", \"banana\", \"orange\", \"grape\",\"kiwi\"]\n",
    "random_fruit = random.choice(fruits)\n",
    "print(\"Randomly chosen fruit: \", random_fruit)"
   ],
   "metadata": {
    "collapsed": false,
    "ExecuteTime": {
     "end_time": "2024-02-03T04:58:02.872423653Z",
     "start_time": "2024-02-03T04:58:02.711630780Z"
    }
   },
   "id": "710a4b44217d8a91",
   "execution_count": 12
  }
 ],
 "metadata": {
  "kernelspec": {
   "display_name": "Python 3",
   "language": "python",
   "name": "python3"
  },
  "language_info": {
   "codemirror_mode": {
    "name": "ipython",
    "version": 2
   },
   "file_extension": ".py",
   "mimetype": "text/x-python",
   "name": "python",
   "nbconvert_exporter": "python",
   "pygments_lexer": "ipython2",
   "version": "2.7.6"
  }
 },
 "nbformat": 4,
 "nbformat_minor": 5
}
