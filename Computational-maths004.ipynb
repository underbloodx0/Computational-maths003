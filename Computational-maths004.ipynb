{
 "cells": [
  {
   "cell_type": "code",
   "execution_count": 2,
   "id": "initial_id",
   "metadata": {
    "collapsed": true,
    "ExecuteTime": {
     "end_time": "2024-01-30T22:48:00.336825200Z",
     "start_time": "2024-01-30T22:48:00.086827200Z"
    }
   },
   "outputs": [
    {
     "name": "stdout",
     "output_type": "stream",
     "text": [
      "Random Number: 9\n"
     ]
    }
   ],
   "source": [
    "import random\n",
    "def generate_random_number():\n",
    "    #Generate  a random number between 1 and 10\n",
    "    random_number = random.randint(1, 10)\n",
    "    return random_number\n",
    "#Call the function and print the result\n",
    "random_result = generate_random_number()\n",
    "print(f\"Random Number: {random_result}\")"
   ]
  },
  {
   "cell_type": "markdown",
   "source": [
    "Shows in an array the numbers ordered from the most to the least repeated of a matrix in python"
   ],
   "metadata": {
    "collapsed": false
   },
   "id": "ca4a60227170585d"
  },
  {
   "cell_type": "code",
   "execution_count": 13,
   "outputs": [
    {
     "name": "stdout",
     "output_type": "stream",
     "text": [
      "Numbers ordered from most to least repeated:  [1, 2, 3, 4]\n"
     ]
    }
   ],
   "source": [
    "from collections import Counter\n",
    "\n",
    "def most_to_least_repeated(matrix):\n",
    "    #Flatten the matrix into a list\n",
    "    flattened_list = [num for row in matrix for num in row]\n",
    "    \n",
    "    #Count the occurrences of each number\n",
    "    count_dict = Counter(flattened_list)\n",
    "    \n",
    "    #Sort the numbers based on their frequency in descending order\n",
    "    sorted_numbers = sorted(count_dict, key=lambda x: count_dict[x], reverse=True)\n",
    "    return sorted_numbers\n",
    "#example matrix\n",
    "example_matrix = [\n",
    "    [1,2,3,4],\n",
    "    [1,2,3,4],\n",
    "    [1,2,3,4],\n",
    "    [1,2,3,4]\n",
    "]\n",
    "#get the sorted numbers based on frequency\n",
    "sorted_numbers = most_to_least_repeated(example_matrix)\n",
    "\n",
    "#Print the result\n",
    "print(\"Numbers ordered from most to least repeated: \",sorted_numbers)"
   ],
   "metadata": {
    "collapsed": false,
    "ExecuteTime": {
     "end_time": "2024-01-30T22:52:01.122171600Z",
     "start_time": "2024-01-30T22:52:01.074170300Z"
    }
   },
   "id": "b715efca4ede593e"
  },
  {
   "cell_type": "markdown",
   "source": [
    "Bubble Sort"
   ],
   "metadata": {
    "collapsed": false
   },
   "id": "c873074f2615d3d4"
  },
  {
   "cell_type": "code",
   "execution_count": 1,
   "outputs": [
    {
     "name": "stdout",
     "output_type": "stream",
     "text": [
      "Given array is: \n",
      "[19, 79, 42, 63, 41, 91, 17, 81, 36, 47, 78, 15, 95, 30, 39, 11, 50, 96, 67, 49, 74, 83, 37, 38, 52, 72, 53, 86, 5, 14, 57, 68, 44, 71, 34, 7, 89, 21, 88, 18, 4, 77, 31, 2, 73, 26, 20, 94, 28, 58]\n",
      "The array after sorting with Bubble Sort: \n",
      "[19, 17, 15, 11, 30, 38, 5, 14, 78, 7, 41, 18, 42, 21, 36, 47, 39, 67, 63, 49, 50, 52, 37, 79, 71, 74, 86, 81, 72, 68, 53, 4, 44, 2, 57, 83, 34, 26, 88, 77, 73, 89, 31, 91, 20, 94, 95, 28, 96, 58]\n",
      "The array after sorting with Bubble Sort: \n",
      "[19, 17, 15, 11, 30, 38, 5, 14, 78, 7, 41, 18, 42, 21, 36, 47, 39, 67, 63, 49, 50, 52, 37, 79, 71, 74, 86, 81, 72, 68, 53, 4, 44, 2, 57, 83, 34, 26, 88, 77, 73, 89, 31, 91, 20, 94, 95, 28, 96, 58]\n",
      "Given array is: \n",
      "[0, 20, 54, 40, 26, 50, 59, 80, 91, 81, 42, 68, 9, 73, 70, 61, 78, 33, 14, 10, 51, 16, 34, 99, 22, 79, 6, 52, 36, 45, 4, 72, 88, 43, 35, 90, 62, 24, 11, 69, 5, 76, 37, 31, 58, 8, 17, 97, 94, 53]\n",
      "The array after sorting with (optimized) Bubble Sort: \n",
      "[0, 4, 5, 6, 8, 9, 10, 11, 14, 16, 17, 20, 22, 24, 26, 31, 33, 34, 35, 36, 37, 40, 42, 43, 45, 50, 51, 52, 53, 54, 58, 59, 61, 62, 68, 69, 70, 72, 73, 76, 78, 79, 80, 81, 88, 90, 91, 94, 97, 99]\n"
     ]
    }
   ],
   "source": [
    "# Bubble Sort\n",
    "import random\n",
    "def bubbleSort(array):\n",
    "    for i in range(len(array)):\n",
    "        #loop to compare array elements\n",
    "        for j in range(len(array) -i -1):\n",
    "            #compare two adjacent elements\n",
    "            #compare > to < to sort in descending order\n",
    "            if array[j] > array[j+i]:\n",
    "                #swapping elements if they are not in the correct order\n",
    "                temp = array[j]\n",
    "                array[j] = array[j+1]\n",
    "                array[j+1] = temp\n",
    "#test\n",
    "array = random.sample(range(0,100),50)\n",
    "print(\"Given array is: \")\n",
    "print(array)\n",
    "\n",
    "bubbleSort(array)\n",
    "\n",
    "print('The array after sorting with Bubble Sort: ')\n",
    "print(array)\n",
    "\n",
    "print('The array after sorting with Bubble Sort: ')\n",
    "print(array)\n",
    "\n",
    "#Optimized Bubble Sort\n",
    "def bubbleSort_opt(array):\n",
    "    for i in range(len(array)):\n",
    "        num_swaps = 0\n",
    "        #loop to compare array elements\n",
    "        for j in range(len(array) -i -1):\n",
    "            #compare two adjacent elements\n",
    "            #change > to < to sort in descending order\n",
    "            if array[j] > array[j+1]:\n",
    "                #swapping elements if they are not in the intended order\n",
    "                temp = array[j]\n",
    "                array[j] = array[j+1]\n",
    "                array[j+1] = temp\n",
    "                #increment num_swaps\n",
    "                num_swaps = num_swaps+1\n",
    "        if num_swaps == 0:\n",
    "            return\n",
    "#test\n",
    "array = random.sample(range(0,100),50)\n",
    "print(\"Given array is: \")\n",
    "print(array)\n",
    "\n",
    "bubbleSort_opt(array)\n",
    "print('The array after sorting with (optimized) Bubble Sort: ')\n",
    "print(array)"
   ],
   "metadata": {
    "collapsed": false,
    "ExecuteTime": {
     "end_time": "2024-02-03T00:07:56.180808889Z",
     "start_time": "2024-02-03T00:07:55.988674645Z"
    }
   },
   "id": "708dc26888bb2885"
  },
  {
   "cell_type": "markdown",
   "source": [
    "Example modification"
   ],
   "metadata": {
    "collapsed": false
   },
   "id": "5ef043387f2ef465"
  },
  {
   "cell_type": "code",
   "outputs": [
    {
     "name": "stdout",
     "output_type": "stream",
     "text": [
      "Random number: 10\n"
     ]
    }
   ],
   "source": [
    "import random\n",
    "\n",
    "# Generate a random number between 1 and 10\n",
    "random_number = random.randint(1, 10)\n",
    "\n",
    "print(\"Random number:\", random_number)"
   ],
   "metadata": {
    "collapsed": false,
    "ExecuteTime": {
     "end_time": "2024-02-03T00:11:36.898765686Z",
     "start_time": "2024-02-03T00:11:36.671408046Z"
    }
   },
   "id": "d3fcd01d046cc234",
   "execution_count": 3
  }
 ],
 "metadata": {
  "kernelspec": {
   "display_name": "Python 3",
   "language": "python",
   "name": "python3"
  },
  "language_info": {
   "codemirror_mode": {
    "name": "ipython",
    "version": 2
   },
   "file_extension": ".py",
   "mimetype": "text/x-python",
   "name": "python",
   "nbconvert_exporter": "python",
   "pygments_lexer": "ipython2",
   "version": "2.7.6"
  }
 },
 "nbformat": 4,
 "nbformat_minor": 5
}
