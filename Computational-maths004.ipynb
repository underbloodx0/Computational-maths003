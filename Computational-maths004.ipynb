{
 "cells": [
  {
   "cell_type": "code",
   "execution_count": 2,
   "id": "initial_id",
   "metadata": {
    "collapsed": true,
    "ExecuteTime": {
     "end_time": "2024-01-30T22:48:00.336825200Z",
     "start_time": "2024-01-30T22:48:00.086827200Z"
    }
   },
   "outputs": [
    {
     "name": "stdout",
     "output_type": "stream",
     "text": [
      "Random Number: 9\n"
     ]
    }
   ],
   "source": [
    "import random\n",
    "def generate_random_number():\n",
    "    #Generate  a random number between 1 and 10\n",
    "    random_number = random.randint(1, 10)\n",
    "    return random_number\n",
    "#Call the function and print the result\n",
    "random_result = generate_random_number()\n",
    "print(f\"Random Number: {random_result}\")"
   ]
  },
  {
   "cell_type": "markdown",
   "source": [
    "Shows in an array the numbers ordered from the most to the least repeated of a matrix in python"
   ],
   "metadata": {
    "collapsed": false
   },
   "id": "ca4a60227170585d"
  },
  {
   "cell_type": "code",
   "execution_count": 13,
   "outputs": [
    {
     "name": "stdout",
     "output_type": "stream",
     "text": [
      "Numbers ordered from most to least repeated:  [1, 2, 3, 4]\n"
     ]
    }
   ],
   "source": [
    "from collections import Counter\n",
    "\n",
    "def most_to_least_repeated(matrix):\n",
    "    #Flatten the matrix into a list\n",
    "    flattened_list = [num for row in matrix for num in row]\n",
    "    \n",
    "    #Count the occurrences of each number\n",
    "    count_dict = Counter(flattened_list)\n",
    "    \n",
    "    #Sort the numbers based on their frequency in descending order\n",
    "    sorted_numbers = sorted(count_dict, key=lambda x: count_dict[x], reverse=True)\n",
    "    return sorted_numbers\n",
    "#example matrix\n",
    "example_matrix = [\n",
    "    [1,2,3,4],\n",
    "    [1,2,3,4],\n",
    "    [1,2,3,4],\n",
    "    [1,2,3,4]\n",
    "]\n",
    "#get the sorted numbers based on frequency\n",
    "sorted_numbers = most_to_least_repeated(example_matrix)\n",
    "\n",
    "#Print the result\n",
    "print(\"Numbers ordered from most to least repeated: \",sorted_numbers)"
   ],
   "metadata": {
    "collapsed": false,
    "ExecuteTime": {
     "end_time": "2024-01-30T22:52:01.122171600Z",
     "start_time": "2024-01-30T22:52:01.074170300Z"
    }
   },
   "id": "b715efca4ede593e"
  },
  {
   "cell_type": "markdown",
   "source": [
    "Bubble Sort"
   ],
   "metadata": {
    "collapsed": false
   },
   "id": "c873074f2615d3d4"
  },
  {
   "cell_type": "code",
   "execution_count": 2,
   "outputs": [
    {
     "name": "stdout",
     "output_type": "stream",
     "text": [
      "Given array is: \n",
      "[24, 2, 29, 92, 36, 56, 10, 22, 75, 1, 97, 94, 55, 50, 60, 49, 90, 89, 40, 21, 81, 0, 46, 88, 20, 27, 69, 73, 32, 82, 57, 72, 93, 8, 37, 4, 39, 61, 47, 65, 95, 25, 78, 33, 52, 9, 31, 84, 51, 30]\n",
      "The array after sorting with Bubble Sort: \n",
      "[2, 1, 10, 0, 24, 22, 21, 29, 8, 20, 36, 27, 50, 46, 55, 60, 73, 4, 49, 56, 32, 40, 37, 39, 57, 75, 82, 81, 47, 69, 65, 88, 61, 25, 89, 33, 9, 92, 72, 93, 90, 31, 52, 95, 94, 78, 84, 51, 97, 30]\n",
      "The array after sorting with Bubble Sort: \n",
      "[2, 1, 10, 0, 24, 22, 21, 29, 8, 20, 36, 27, 50, 46, 55, 60, 73, 4, 49, 56, 32, 40, 37, 39, 57, 75, 82, 81, 47, 69, 65, 88, 61, 25, 89, 33, 9, 92, 72, 93, 90, 31, 52, 95, 94, 78, 84, 51, 97, 30]\n",
      "Given array is: \n",
      "[92, 4, 94, 85, 7, 27, 29, 70, 50, 39, 56, 34, 8, 59, 86, 44, 22, 60, 42, 62, 83, 1, 3, 98, 55, 41, 43, 9, 12, 90, 15, 84, 71, 57, 49, 75, 81, 23, 96, 38, 65, 58, 5, 19, 66, 47, 91, 25, 37, 54]\n",
      "The array after sorting with (optimized) Bubble Sort: \n",
      "[1, 3, 4, 5, 7, 8, 9, 12, 15, 19, 22, 23, 25, 27, 29, 34, 37, 38, 39, 41, 42, 43, 44, 47, 49, 50, 54, 55, 56, 57, 58, 59, 60, 62, 65, 66, 70, 71, 75, 81, 83, 84, 85, 86, 90, 91, 92, 94, 96, 98]\n"
     ]
    }
   ],
   "source": [
    "# Bubble Sort\n",
    "import random\n",
    "def bubbleSort(array):\n",
    "    for i in range(len(array)):\n",
    "        #loop to compare array elements\n",
    "        for j in range(len(array) -i -1):\n",
    "            #compare two adjacent elements\n",
    "            #compare > to < to sort in descending order\n",
    "            if array[j] > array[j+i]:\n",
    "                #swapping elements if they are not in the correct order\n",
    "                temp = array[j]\n",
    "                array[j] = array[j+1]\n",
    "                array[j+1] = temp\n",
    "#test\n",
    "array = random.sample(range(0,100),50)\n",
    "print(\"Given array is: \")\n",
    "print(array)\n",
    "\n",
    "bubbleSort(array)\n",
    "\n",
    "print('The array after sorting with Bubble Sort: ')\n",
    "print(array)\n",
    "\n",
    "print('The array after sorting with Bubble Sort: ')\n",
    "print(array)\n",
    "\n",
    "#Optimized Bubble Sort\n",
    "def bubbleSort_opt(array):\n",
    "    for i in range(len(array)):\n",
    "        num_swaps = 0\n",
    "        #loop to compare array elements\n",
    "        for j in range(len(array) -i -1):\n",
    "            #compare two adjacent elements\n",
    "            #change > to < to sort in descending order\n",
    "            if array[j] > array[j+1]:\n",
    "                #swapping elements if they are not in the intended order\n",
    "                temp = array[j]\n",
    "                array[j] = array[j+1]\n",
    "                array[j+1] = temp\n",
    "                #increment num_swaps\n",
    "                num_swaps = num_swaps+1\n",
    "        if num_swaps == 0:\n",
    "            return\n",
    "#test\n",
    "array = random.sample(range(0,100),50)\n",
    "print(\"Given array is: \")\n",
    "print(array)\n",
    "\n",
    "bubbleSort_opt(array)\n",
    "print('The array after sorting with (optimized) Bubble Sort: ')\n",
    "print(array)"
   ],
   "metadata": {
    "collapsed": false,
    "ExecuteTime": {
     "end_time": "2024-02-02T16:48:54.849586900Z",
     "start_time": "2024-02-02T16:48:54.666584600Z"
    }
   },
   "id": "708dc26888bb2885"
  }
 ],
 "metadata": {
  "kernelspec": {
   "display_name": "Python 3",
   "language": "python",
   "name": "python3"
  },
  "language_info": {
   "codemirror_mode": {
    "name": "ipython",
    "version": 2
   },
   "file_extension": ".py",
   "mimetype": "text/x-python",
   "name": "python",
   "nbconvert_exporter": "python",
   "pygments_lexer": "ipython2",
   "version": "2.7.6"
  }
 },
 "nbformat": 4,
 "nbformat_minor": 5
}
