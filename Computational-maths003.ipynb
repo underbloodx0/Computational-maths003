{
 "cells": [
  {
   "cell_type": "markdown",
   "source": [
    "1.5 Functions\n",
    "def function_name(variable1, variable2,...):\n",
    "    block of commands\n",
    "    return result_values"
   ],
   "metadata": {
    "collapsed": false
   },
   "id": "2b627c5eaebacc13"
  },
  {
   "cell_type": "code",
   "execution_count": 2,
   "id": "initial_id",
   "metadata": {
    "collapsed": true,
    "ExecuteTime": {
     "end_time": "2023-12-11T18:04:45.749314300Z",
     "start_time": "2023-12-11T18:04:45.734928800Z"
    }
   },
   "outputs": [],
   "source": [
    "def double(x):\n",
    "    y = 2 * x\n",
    "    return y"
   ]
  },
  {
   "cell_type": "code",
   "execution_count": null,
   "outputs": [],
   "source": [],
   "metadata": {
    "collapsed": false
   },
   "id": "1b80e95619263d3f"
  }
 ],
 "metadata": {
  "kernelspec": {
   "display_name": "Python 3",
   "language": "python",
   "name": "python3"
  },
  "language_info": {
   "codemirror_mode": {
    "name": "ipython",
    "version": 2
   },
   "file_extension": ".py",
   "mimetype": "text/x-python",
   "name": "python",
   "nbconvert_exporter": "python",
   "pygments_lexer": "ipython2",
   "version": "2.7.6"
  }
 },
 "nbformat": 4,
 "nbformat_minor": 5
}
