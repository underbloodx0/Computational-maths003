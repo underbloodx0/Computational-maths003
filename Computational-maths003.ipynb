{
 "cells": [
  {
   "cell_type": "markdown",
   "source": [
    "1.5 Functions\n",
    "def function_name(variable1, variable2,...):\n",
    "    block of commands\n",
    "    return result_values"
   ],
   "metadata": {
    "collapsed": false
   },
   "id": "2b627c5eaebacc13"
  },
  {
   "cell_type": "code",
   "execution_count": 2,
   "id": "initial_id",
   "metadata": {
    "collapsed": true,
    "ExecuteTime": {
     "end_time": "2023-12-11T18:04:45.749314300Z",
     "start_time": "2023-12-11T18:04:45.734928800Z"
    }
   },
   "outputs": [],
   "source": [
    "def double(x):\n",
    "    y = 2 * x\n",
    "    return y"
   ]
  },
  {
   "cell_type": "code",
   "execution_count": 4,
   "outputs": [],
   "source": [
    "def double(x):\n",
    "    return 2*x"
   ],
   "metadata": {
    "collapsed": false,
    "ExecuteTime": {
     "end_time": "2023-12-11T18:17:40.109445300Z",
     "start_time": "2023-12-11T18:17:40.097933200Z"
    }
   },
   "id": "1b80e95619263d3f"
  },
  {
   "cell_type": "code",
   "execution_count": 5,
   "outputs": [
    {
     "name": "stdout",
     "output_type": "stream",
     "text": [
      "6\n"
     ]
    }
   ],
   "source": [
    "x = 3\n",
    "r = double(x)\n",
    "print(double(x))"
   ],
   "metadata": {
    "collapsed": false,
    "ExecuteTime": {
     "end_time": "2023-12-11T18:19:05.849031200Z",
     "start_time": "2023-12-11T18:19:05.789035Z"
    }
   },
   "id": "9110ff842c74430a"
  },
  {
   "cell_type": "code",
   "execution_count": 16,
   "outputs": [],
   "source": [
    "def div10(x):\n",
    "    if x!=0:\n",
    "        return 10/x\n",
    "    else:\n",
    "        print('Division imposible')"
   ],
   "metadata": {
    "collapsed": false,
    "ExecuteTime": {
     "end_time": "2023-12-11T18:33:48.746707200Z",
     "start_time": "2023-12-11T18:33:47.077260200Z"
    }
   },
   "id": "1197bd46675b69f8"
  },
  {
   "cell_type": "code",
   "execution_count": 17,
   "outputs": [],
   "source": [
    "def max(x, y = 0):\n",
    "    if x >= y:\n",
    "        return x\n",
    "    else:\n",
    "        return y"
   ],
   "metadata": {
    "collapsed": false,
    "ExecuteTime": {
     "end_time": "2023-12-11T18:36:25.427745600Z",
     "start_time": "2023-12-11T18:36:25.418738700Z"
    }
   },
   "id": "495eb70369c41884"
  }
 ],
 "metadata": {
  "kernelspec": {
   "display_name": "Python 3",
   "language": "python",
   "name": "python3"
  },
  "language_info": {
   "codemirror_mode": {
    "name": "ipython",
    "version": 2
   },
   "file_extension": ".py",
   "mimetype": "text/x-python",
   "name": "python",
   "nbconvert_exporter": "python",
   "pygments_lexer": "ipython2",
   "version": "2.7.6"
  }
 },
 "nbformat": 4,
 "nbformat_minor": 5
}
