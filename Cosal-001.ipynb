{
 "cells": [
  {
   "cell_type": "markdown",
   "source": [
    "#Planteamiento del problema.\n",
    "Se requiere un programa que calcule el peso, numero de unidades que se obtienen el desembobinar un rollo de papel, numero de unidades que se obtienen al dividirlo por ancho, los datos del rollo del papel a distribuir son los siguientes:\n",
    "\n",
    "Rollo Principal.\n",
    "\n",
    "masa/peso base: 320g\n",
    "diametro exterior/diametro 1: 127cm\n",
    "diametro interior/centro 1: 15.24cm\n",
    "peso total del rollo: 688kg\n",
    "calibre/puntos: 0.043434mm\n",
    "metros lineales/longitud: 2821m\n",
    "ancho 1: 76.2cm\n",
    "\n",
    "Rollos Nuevos.\n",
    "\n",
    "diametro exterior/diametro 2: 30cm\n",
    "diametro interior/centro 2: 7.62cm\n",
    "ancho 2: 20cm\n",
    "peso nuevo por unidad: ? (kg)\n",
    "unidades obtenidas al desembobinar: ?\n",
    "unidades obtenidas al dividir por ancho: ?"
   ],
   "metadata": {
    "collapsed": false
   },
   "id": "6542b5210014a0e4"
  },
  {
   "cell_type": "code",
   "outputs": [
    {
     "name": "stdout",
     "output_type": "stream",
     "text": [
      "El espesor que se usa en ambos procesos es:  0.4425832075491792 mm\n",
      "Los metros lineales de cada nuevo rollo son:  149.40798987847975 m\n",
      "Unidades obtenidas al desembobinar:  18 rollos\n",
      "Unidades obtenidas al dividir por ancho:  3 rollos por corte\n",
      "Volumen del rollo obtenido al final:  42185.30615240374 cm3\n",
      "Peso de cada rollo al final del proceso:  10.401058477089355 kg\n",
      "Gramaje por peso entre area nueva:  0.0010708931974129042 g/cm2\n",
      "Densidad de papel por gramaje entre calibre:  0.24655642985055584 g/cm3\n",
      "Desperdicio de papel por recortes:  148.0 kg\n"
     ]
    }
   ],
   "source": [
    "import math\n",
    "\n",
    "def calcula_espesor(D_1, d_1, mL_1):\n",
    "    D_1 = D_1 * 10\n",
    "    d_1 = d_1 * 10\n",
    "    mL_1 = mL_1 * 1000\n",
    "    espr = (math.pi * (D_1**2 - d_1**2)) / (4 * mL_1)\n",
    "    return espr\n",
    "\n",
    "def calcula_metros_lineales_nuevos(espr, D_2, d_2):\n",
    "    D_2 = D_2 / 100\n",
    "    d_2 = d_2 / 100\n",
    "    espr = espr / 1000\n",
    "    mL_2 = (math.pi * (D_2**2 - d_2**2)) / (4 * espr)\n",
    "    return mL_2\n",
    "\n",
    "def unidades_obtenidas_al_desembobinar(mL_1, mL_2):\n",
    "    uod = mL_1 / mL_2\n",
    "    return uod\n",
    "\n",
    "def unidades_obtenidas_al_dividir_por_ancho(ach_1, ach_2):\n",
    "    uoda = ach_1 / ach_2\n",
    "    return uoda\n",
    "\n",
    "def calcular_volumen(D_2, d_2, ach_2):\n",
    "    rd = D_2 / 2\n",
    "    gsr = D_2 - d_2\n",
    "    vol = 2 * (math.pi) * rd * ach_2 * gsr\n",
    "    return vol\n",
    "\n",
    "def calcular_peso_nuevo_por_unidad(ms, mL_2, ach_2, clb, vol):\n",
    "    mL_2 = mL_2 * 100\n",
    "    clb = clb / 10\n",
    "    gme = ms / (mL_2 * ach_2)\n",
    "    dsad = gme / clb\n",
    "    uw_2 = (dsad * vol) / 1000\n",
    "    return uw_2, gme, dsad\n",
    "\n",
    "def calcular_desperdicio(uw_2,uoda,uod, uw_1):\n",
    "    smunid = int(uw_2) * int(uoda) * int(uod)\n",
    "    desp = uw_1 - smunid\n",
    "    return desp\n",
    "\n",
    "def main():\n",
    "    ms = float(input(\"Rollo principal - Ingresa la masa/peso base (g): \"))\n",
    "    D_1 = float(input(\"Rollo principal - Ingresa el diámetro exterior/diámetro (cm): \"))\n",
    "    d_1 = float(input(\"Rollo principal - Ingresa el diámetro interior (cm): \"))\n",
    "    uw_1 = float(input(\"Rollo principal - Ingresa el peso total del rollo (kg): \"))\n",
    "    clb = float(input(\"Rollo principal - Ingresa el calibre/puntos (mm): \"))\n",
    "    mL_1 = float(input(\"Rollo principal - Ingresa los metros lineales/longitud (m): \"))\n",
    "    ach_1 = float(input(\"Rollo principal - Ingresa el ancho (cm):\"))\n",
    "    D_2 = float(input(\"Rollos nuevos - Ingresa el diámetro exterior nuevo (cm): \"))\n",
    "    d_2 = float(input(\"Rollos nuevos - Ingresa el diámetro interior nuevo (cm): \"))\n",
    "    ach_2 = float(input(\"Rollos nuevos - Ingresa el ancho nuevo (cm): \"))\n",
    "    \n",
    "    espr = calcula_espesor(D_1, d_1, mL_1)\n",
    "    mL_2 = calcula_metros_lineales_nuevos(espr, D_2, d_2)\n",
    "    uod = unidades_obtenidas_al_desembobinar(mL_1, mL_2)\n",
    "    uoda = unidades_obtenidas_al_dividir_por_ancho(ach_1, ach_2)\n",
    "    vol = calcular_volumen(D_2, d_2, ach_2)\n",
    "    uw_2,gme,dsad  = calcular_peso_nuevo_por_unidad(ms, mL_2, ach_2, clb, vol)\n",
    "    desp = calcular_desperdicio(uw_2,uoda,uod,uw_1)\n",
    "    \n",
    "    print(\"El espesor que se usa en ambos procesos es: \", espr, \"mm\")\n",
    "    print(\"Los metros lineales de cada nuevo rollo son: \", mL_2, \"m\")\n",
    "    print(\"Unidades obtenidas al desembobinar: \", int(uod), \"rollos\")\n",
    "    print(\"Unidades obtenidas al dividir por ancho: \", int(uoda), \"rollos por corte\")\n",
    "    print(\"Volumen del rollo obtenido al final: \", vol, \"cm3\")\n",
    "    print(\"Peso de cada rollo al final del proceso: \", uw_2, \"kg\")\n",
    "    print(\"Gramaje por peso entre area nueva: \", gme, \"g/cm2\")\n",
    "    print(\"Densidad de papel por gramaje entre calibre: \", dsad, \"g/cm3\")\n",
    "    print(\"Desperdicio de papel por recortes: \", desp, \"kg\")\n",
    "    \n",
    "if __name__ == \"__main__\":\n",
    "    main()\n"
   ],
   "metadata": {
    "collapsed": false,
    "ExecuteTime": {
     "end_time": "2024-03-25T04:13:48.935208284Z",
     "start_time": "2024-03-25T04:12:32.596338250Z"
    }
   },
   "id": "ebb7513b84eab100",
   "execution_count": 26
  }
 ],
 "metadata": {
  "kernelspec": {
   "display_name": "Python 3",
   "language": "python",
   "name": "python3"
  },
  "language_info": {
   "codemirror_mode": {
    "name": "ipython",
    "version": 2
   },
   "file_extension": ".py",
   "mimetype": "text/x-python",
   "name": "python",
   "nbconvert_exporter": "python",
   "pygments_lexer": "ipython2",
   "version": "2.7.6"
  }
 },
 "nbformat": 4,
 "nbformat_minor": 5
}
