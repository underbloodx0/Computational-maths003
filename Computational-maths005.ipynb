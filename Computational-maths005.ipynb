{
 "cells": [
  {
   "cell_type": "markdown",
   "source": [
    "1.3 Strings, Tuples, Dictionaries and Lists"
   ],
   "metadata": {
    "collapsed": false
   },
   "id": "725d9130ce08b0b7"
  },
  {
   "cell_type": "code",
   "outputs": [
    {
     "name": "stdout",
     "output_type": "stream",
     "text": [
      "Hello World\n"
     ]
    }
   ],
   "source": [
    "print('Hello World')"
   ],
   "metadata": {
    "collapsed": false,
    "ExecuteTime": {
     "end_time": "2024-02-08T18:29:19.436878960Z",
     "start_time": "2024-02-08T18:29:19.034864193Z"
    }
   },
   "id": "5aa3699944ccae48",
   "execution_count": 1
  },
  {
   "cell_type": "code",
   "outputs": [
    {
     "name": "stdout",
     "output_type": "stream",
     "text": [
      "James Bond\n"
     ]
    }
   ],
   "source": [
    "my_name = 'James'\n",
    "my_lastname = 'Bond'\n",
    "full_name = my_name + ' ' + my_lastname\n",
    "print(full_name)"
   ],
   "metadata": {
    "collapsed": false,
    "ExecuteTime": {
     "end_time": "2024-02-08T18:29:20.093774058Z",
     "start_time": "2024-02-08T18:29:19.395274835Z"
    }
   },
   "id": "88b2637d884fbe07",
   "execution_count": 2
  },
  {
   "cell_type": "code",
   "outputs": [
    {
     "name": "stdout",
     "output_type": "stream",
     "text": [
      "James\n",
      "James\n",
      "James\n",
      "es\n"
     ]
    }
   ],
   "source": [
    "my_name = 'James'\n",
    "print (my_name[:])\n",
    "print(my_name[0:5])\n",
    "print(my_name[:5])\n",
    "print(my_name[3:])"
   ],
   "metadata": {
    "collapsed": false,
    "ExecuteTime": {
     "end_time": "2024-02-08T18:29:20.135868256Z",
     "start_time": "2024-02-08T18:29:20.008820440Z"
    }
   },
   "id": "952e4ef17150e2bc",
   "execution_count": 3
  },
  {
   "cell_type": "markdown",
   "source": [
    "1.3.2 Tupĺes"
   ],
   "metadata": {
    "collapsed": false
   },
   "id": "f30feeffb9ea507a"
  },
  {
   "cell_type": "code",
   "outputs": [
    {
     "name": "stdout",
     "output_type": "stream",
     "text": [
      "2\n",
      "Hi\n"
     ]
    }
   ],
   "source": [
    "x = (2, 'Hi')\n",
    "print(x[0])\n",
    "print(x[1])"
   ],
   "metadata": {
    "collapsed": false,
    "ExecuteTime": {
     "end_time": "2024-02-08T18:29:20.243014190Z",
     "start_time": "2024-02-08T18:29:20.129376630Z"
    }
   },
   "id": "d85c84971b39a311",
   "execution_count": 4
  },
  {
   "cell_type": "markdown",
   "source": [
    "1.3.3 Dictionaries"
   ],
   "metadata": {
    "collapsed": false
   },
   "id": "f3311e8f163e3542"
  },
  {
   "cell_type": "code",
   "outputs": [
    {
     "name": "stdout",
     "output_type": "stream",
     "text": [
      "0\n",
      "10\n"
     ]
    }
   ],
   "source": [
    "variables = { \\\n",
    "    \"x\": 0, \\\n",
    "    \"y\": 1, \\\n",
    "    \"z\": 2 \\\n",
    "}\n",
    "print(variables[\"x\"])\n",
    "variables[\"y\"] = 10\n",
    "print(variables[\"y\"])"
   ],
   "metadata": {
    "collapsed": false,
    "ExecuteTime": {
     "end_time": "2024-02-08T18:29:20.398393494Z",
     "start_time": "2024-02-08T18:29:20.224796600Z"
    }
   },
   "id": "a7524f4d9bdd6bed",
   "execution_count": 5
  },
  {
   "cell_type": "markdown",
   "source": [
    "1.3.4 Lists"
   ],
   "metadata": {
    "collapsed": false
   },
   "id": "506bfdf21e7e47fa"
  },
  {
   "cell_type": "code",
   "outputs": [
    {
     "name": "stdout",
     "output_type": "stream",
     "text": [
      "5\n",
      "3\n",
      "7\n"
     ]
    }
   ],
   "source": [
    "list = [5,3,7]\n",
    "print(list[0])\n",
    "print(list[1])\n",
    "print(list[2])"
   ],
   "metadata": {
    "collapsed": false,
    "ExecuteTime": {
     "end_time": "2024-02-08T18:29:20.519879465Z",
     "start_time": "2024-02-08T18:29:20.286880205Z"
    }
   },
   "id": "4db4d6ae2bffa073",
   "execution_count": 6
  },
  {
   "cell_type": "code",
   "outputs": [
    {
     "name": "stdout",
     "output_type": "stream",
     "text": [
      "7\n"
     ]
    }
   ],
   "source": [
    "list = [5,3,7]\n",
    "print(list[-1])"
   ],
   "metadata": {
    "collapsed": false,
    "ExecuteTime": {
     "end_time": "2024-02-08T18:29:20.676474429Z",
     "start_time": "2024-02-08T18:29:20.516432343Z"
    }
   },
   "id": "63da4413fd1a717c",
   "execution_count": 7
  },
  {
   "cell_type": "code",
   "outputs": [
    {
     "name": "stdout",
     "output_type": "stream",
     "text": [
      "[5, 9, 7]\n"
     ]
    }
   ],
   "source": [
    "list[1] = 9\n",
    "print(list)"
   ],
   "metadata": {
    "collapsed": false,
    "ExecuteTime": {
     "end_time": "2024-02-08T18:29:20.824635979Z",
     "start_time": "2024-02-08T18:29:20.640438681Z"
    }
   },
   "id": "86d1684b5c0aff37",
   "execution_count": 8
  },
  {
   "cell_type": "code",
   "outputs": [
    {
     "name": "stdout",
     "output_type": "stream",
     "text": [
      "[5, 9, 7, 10]\n"
     ]
    }
   ],
   "source": [
    "list.append(10)\n",
    "print(list)"
   ],
   "metadata": {
    "collapsed": false,
    "ExecuteTime": {
     "end_time": "2024-02-08T18:29:20.904580824Z",
     "start_time": "2024-02-08T18:29:20.797843951Z"
    }
   },
   "id": "3d0b56df789ee48f",
   "execution_count": 9
  },
  {
   "cell_type": "code",
   "outputs": [
    {
     "name": "stdout",
     "output_type": "stream",
     "text": [
      "6\n"
     ]
    }
   ],
   "source": [
    "grades = [9.0, 6.7, 8.5, 7.6, 9.8, 7.0]\n",
    "n = len(grades)\n",
    "print(n)"
   ],
   "metadata": {
    "collapsed": false,
    "ExecuteTime": {
     "end_time": "2024-02-08T18:29:21.015707665Z",
     "start_time": "2024-02-08T18:29:20.895720406Z"
    }
   },
   "id": "841284d6239e11cb",
   "execution_count": 10
  },
  {
   "cell_type": "code",
   "outputs": [
    {
     "name": "stdout",
     "output_type": "stream",
     "text": [
      "[9.0, 6.7, 8.5, 7.6, 9.8, 7.0, 9.0, 6.7, 8.5, 7.6, 9.8, 7.0]\n"
     ]
    }
   ],
   "source": [
    "grades = grades + [9.0, 6.7, 8.5, 7.6, 9.8, 7.0]\n",
    "print(grades)"
   ],
   "metadata": {
    "collapsed": false,
    "ExecuteTime": {
     "end_time": "2024-02-08T18:29:21.133167794Z",
     "start_time": "2024-02-08T18:29:21.012558574Z"
    }
   },
   "id": "c58aa5f78d8f8a0a",
   "execution_count": 11
  },
  {
   "cell_type": "code",
   "outputs": [
    {
     "name": "stdout",
     "output_type": "stream",
     "text": [
      "[8.5, 7.6, 9.8]\n"
     ]
    }
   ],
   "source": [
    "print(grades[2:5])"
   ],
   "metadata": {
    "collapsed": false,
    "ExecuteTime": {
     "end_time": "2024-02-08T18:29:21.259497787Z",
     "start_time": "2024-02-08T18:29:21.138504324Z"
    }
   },
   "id": "7e73af50f501e793",
   "execution_count": 12
  },
  {
   "cell_type": "code",
   "outputs": [
    {
     "name": "stdout",
     "output_type": "stream",
     "text": [
      "[9, 10, 8, 7, 9, 7]\n",
      "[9, 10, 8, 7, 9, 7]\n"
     ]
    }
   ],
   "source": [
    "list2 = [9,6,8,7,9,7]\n",
    "list1 = list2\n",
    "list2[1] = 10\n",
    "print(list1)\n",
    "print(list2)"
   ],
   "metadata": {
    "collapsed": false,
    "ExecuteTime": {
     "end_time": "2024-02-08T18:29:21.453507005Z",
     "start_time": "2024-02-08T18:29:21.251857728Z"
    }
   },
   "id": "fe00c92117e370de",
   "execution_count": 13
  },
  {
   "cell_type": "code",
   "outputs": [
    {
     "name": "stdout",
     "output_type": "stream",
     "text": [
      "[9, 6, 8, 7, 9, 7]\n",
      "[9, 10, 8, 7, 9, 7]\n"
     ]
    }
   ],
   "source": [
    "list2 = [9,6,8,7,9,7]\n",
    "list1 = list2[:]\n",
    "list2[1] = 10\n",
    "print(list1)\n",
    "print(list2)"
   ],
   "metadata": {
    "collapsed": false,
    "ExecuteTime": {
     "end_time": "2024-02-08T18:29:21.589924407Z",
     "start_time": "2024-02-08T18:29:21.454501107Z"
    }
   },
   "id": "4866973b6d02b979",
   "execution_count": 14
  },
  {
   "cell_type": "code",
   "outputs": [
    {
     "name": "stdout",
     "output_type": "stream",
     "text": [
      "[9, 6, 8, 7, 1, 2, 3]\n"
     ]
    }
   ],
   "source": [
    "list1 = [9,6,8,7]\n",
    "list2 = [1,2,3]\n",
    "list3 = list1 + list2\n",
    "print(list3)"
   ],
   "metadata": {
    "collapsed": false,
    "ExecuteTime": {
     "end_time": "2024-02-08T18:32:37.942809681Z",
     "start_time": "2024-02-08T18:32:36.590076312Z"
    }
   },
   "id": "14d1d751b58307a6",
   "execution_count": 15
  },
  {
   "cell_type": "markdown",
   "source": [
    "1.3.5 Lists of lists"
   ],
   "metadata": {
    "collapsed": false
   },
   "id": "983d7e86f4cb67f6"
  },
  {
   "cell_type": "code",
   "outputs": [
    {
     "name": "stdout",
     "output_type": "stream",
     "text": [
      "[[1, 2], [3, 4]]\n"
     ]
    }
   ],
   "source": [
    "A = [[1,2],[3,4]]\n",
    "print(A)"
   ],
   "metadata": {
    "collapsed": false,
    "ExecuteTime": {
     "end_time": "2024-02-08T18:36:46.582511853Z",
     "start_time": "2024-02-08T18:36:45.862218439Z"
    }
   },
   "id": "43dfe4e33e8c29e7",
   "execution_count": 16
  }
 ],
 "metadata": {
  "kernelspec": {
   "display_name": "Python 3",
   "language": "python",
   "name": "python3"
  },
  "language_info": {
   "codemirror_mode": {
    "name": "ipython",
    "version": 2
   },
   "file_extension": ".py",
   "mimetype": "text/x-python",
   "name": "python",
   "nbconvert_exporter": "python",
   "pygments_lexer": "ipython2",
   "version": "2.7.6"
  }
 },
 "nbformat": 4,
 "nbformat_minor": 5
}
