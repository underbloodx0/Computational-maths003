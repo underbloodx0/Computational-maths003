{
 "cells": [
  {
   "cell_type": "markdown",
   "source": [
    "1.3 Strings, Tuples, Dictionaries and Lists"
   ],
   "metadata": {
    "collapsed": false
   },
   "id": "725d9130ce08b0b7"
  },
  {
   "cell_type": "code",
   "outputs": [
    {
     "name": "stdout",
     "output_type": "stream",
     "text": [
      "Hello World\n"
     ]
    }
   ],
   "source": [
    "print('Hello World')"
   ],
   "metadata": {
    "collapsed": false,
    "ExecuteTime": {
     "end_time": "2024-02-04T03:45:09.581290774Z",
     "start_time": "2024-02-04T03:45:09.454312271Z"
    }
   },
   "id": "5aa3699944ccae48",
   "execution_count": 1
  },
  {
   "cell_type": "code",
   "outputs": [
    {
     "name": "stdout",
     "output_type": "stream",
     "text": [
      "James Bond\n"
     ]
    }
   ],
   "source": [
    "my_name = 'James'\n",
    "my_lastname = 'Bond'\n",
    "full_name = my_name + ' ' + my_lastname\n",
    "print(full_name)"
   ],
   "metadata": {
    "collapsed": false,
    "ExecuteTime": {
     "end_time": "2024-02-04T03:50:34.758425857Z",
     "start_time": "2024-02-04T03:50:34.443673215Z"
    }
   },
   "id": "88b2637d884fbe07",
   "execution_count": 4
  },
  {
   "cell_type": "code",
   "outputs": [
    {
     "name": "stdout",
     "output_type": "stream",
     "text": [
      "James\n",
      "James\n",
      "James\n",
      "es\n"
     ]
    }
   ],
   "source": [
    "my_name = 'James'\n",
    "print (my_name[:])\n",
    "print(my_name[0:5])\n",
    "print(my_name[:5])\n",
    "print(my_name[3:])"
   ],
   "metadata": {
    "collapsed": false,
    "ExecuteTime": {
     "end_time": "2024-02-04T03:55:50.966310269Z",
     "start_time": "2024-02-04T03:55:50.735923326Z"
    }
   },
   "id": "952e4ef17150e2bc",
   "execution_count": 5
  },
  {
   "cell_type": "markdown",
   "source": [
    "1.3.2 Tupĺes"
   ],
   "metadata": {
    "collapsed": false
   },
   "id": "f30feeffb9ea507a"
  },
  {
   "cell_type": "code",
   "outputs": [
    {
     "name": "stdout",
     "output_type": "stream",
     "text": [
      "2\n",
      "Hi\n"
     ]
    }
   ],
   "source": [
    "x = (2, 'Hi')\n",
    "print(x[0])\n",
    "print(x[1])"
   ],
   "metadata": {
    "collapsed": false,
    "ExecuteTime": {
     "end_time": "2024-02-04T03:58:10.401033921Z",
     "start_time": "2024-02-04T03:58:09.841195104Z"
    }
   },
   "id": "d85c84971b39a311",
   "execution_count": 6
  },
  {
   "cell_type": "markdown",
   "source": [
    "1.3.3 Dictionaries"
   ],
   "metadata": {
    "collapsed": false
   },
   "id": "f3311e8f163e3542"
  },
  {
   "cell_type": "code",
   "outputs": [
    {
     "name": "stdout",
     "output_type": "stream",
     "text": [
      "0\n",
      "10\n"
     ]
    }
   ],
   "source": [
    "variables = { \\\n",
    "    \"x\": 0, \\\n",
    "    \"y\": 1, \\\n",
    "    \"z\": 2 \\\n",
    "}\n",
    "print(variables[\"x\"])\n",
    "variables[\"y\"] = 10\n",
    "print(variables[\"y\"])"
   ],
   "metadata": {
    "collapsed": false,
    "ExecuteTime": {
     "end_time": "2024-02-04T04:01:39.682135598Z",
     "start_time": "2024-02-04T04:01:39.491968821Z"
    }
   },
   "id": "a7524f4d9bdd6bed",
   "execution_count": 9
  },
  {
   "cell_type": "markdown",
   "source": [
    "1.3.4 Lists"
   ],
   "metadata": {
    "collapsed": false
   },
   "id": "506bfdf21e7e47fa"
  },
  {
   "cell_type": "code",
   "outputs": [
    {
     "name": "stdout",
     "output_type": "stream",
     "text": [
      "5\n",
      "3\n",
      "7\n"
     ]
    }
   ],
   "source": [
    "list = [5,3,7]\n",
    "print(list[0])\n",
    "print(list[1])\n",
    "print(list[2])"
   ],
   "metadata": {
    "collapsed": false,
    "ExecuteTime": {
     "end_time": "2024-02-04T04:06:23.727908291Z",
     "start_time": "2024-02-04T04:06:23.537939772Z"
    }
   },
   "id": "4db4d6ae2bffa073",
   "execution_count": 10
  }
 ],
 "metadata": {
  "kernelspec": {
   "display_name": "Python 3",
   "language": "python",
   "name": "python3"
  },
  "language_info": {
   "codemirror_mode": {
    "name": "ipython",
    "version": 2
   },
   "file_extension": ".py",
   "mimetype": "text/x-python",
   "name": "python",
   "nbconvert_exporter": "python",
   "pygments_lexer": "ipython2",
   "version": "2.7.6"
  }
 },
 "nbformat": 4,
 "nbformat_minor": 5
}
