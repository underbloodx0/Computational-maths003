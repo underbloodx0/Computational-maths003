{
 "cells": [
  {
   "cell_type": "markdown",
   "source": [
    "1.3 Strings, Tuples, Dictionaries and Lists"
   ],
   "metadata": {
    "collapsed": false
   },
   "id": "725d9130ce08b0b7"
  },
  {
   "cell_type": "code",
   "outputs": [
    {
     "name": "stdout",
     "output_type": "stream",
     "text": [
      "Hello World\n"
     ]
    }
   ],
   "source": [
    "print('Hello World')"
   ],
   "metadata": {
    "collapsed": false,
    "ExecuteTime": {
     "end_time": "2024-02-20T06:23:44.621765962Z",
     "start_time": "2024-02-20T06:23:43.581223038Z"
    }
   },
   "id": "5aa3699944ccae48",
   "execution_count": 28
  },
  {
   "cell_type": "code",
   "outputs": [
    {
     "name": "stdout",
     "output_type": "stream",
     "text": [
      "James Bond\n"
     ]
    }
   ],
   "source": [
    "my_name = 'James'\n",
    "my_lastname = 'Bond'\n",
    "full_name = my_name + ' ' + my_lastname\n",
    "print(full_name)"
   ],
   "metadata": {
    "collapsed": false,
    "ExecuteTime": {
     "end_time": "2024-02-20T06:23:44.729890462Z",
     "start_time": "2024-02-20T06:23:44.641844491Z"
    }
   },
   "id": "88b2637d884fbe07",
   "execution_count": 29
  },
  {
   "cell_type": "code",
   "outputs": [
    {
     "name": "stdout",
     "output_type": "stream",
     "text": [
      "James\n",
      "James\n",
      "James\n",
      "es\n"
     ]
    }
   ],
   "source": [
    "my_name = 'James'\n",
    "print (my_name[:])\n",
    "print(my_name[0:5])\n",
    "print(my_name[:5])\n",
    "print(my_name[3:])"
   ],
   "metadata": {
    "collapsed": false,
    "ExecuteTime": {
     "end_time": "2024-02-20T06:23:45.455440439Z",
     "start_time": "2024-02-20T06:23:44.770254675Z"
    }
   },
   "id": "952e4ef17150e2bc",
   "execution_count": 30
  },
  {
   "cell_type": "markdown",
   "source": [
    "1.3.2 Tupĺes"
   ],
   "metadata": {
    "collapsed": false
   },
   "id": "f30feeffb9ea507a"
  },
  {
   "cell_type": "code",
   "outputs": [
    {
     "name": "stdout",
     "output_type": "stream",
     "text": [
      "2\n",
      "Hi\n"
     ]
    }
   ],
   "source": [
    "x = (2, 'Hi')\n",
    "print(x[0])\n",
    "print(x[1])"
   ],
   "metadata": {
    "collapsed": false,
    "ExecuteTime": {
     "end_time": "2024-02-20T06:23:45.909970220Z",
     "start_time": "2024-02-20T06:23:45.451061620Z"
    }
   },
   "id": "d85c84971b39a311",
   "execution_count": 31
  },
  {
   "cell_type": "markdown",
   "source": [
    "1.3.3 Dictionaries"
   ],
   "metadata": {
    "collapsed": false
   },
   "id": "f3311e8f163e3542"
  },
  {
   "cell_type": "code",
   "outputs": [
    {
     "name": "stdout",
     "output_type": "stream",
     "text": [
      "0\n",
      "10\n"
     ]
    }
   ],
   "source": [
    "variables = { \\\n",
    "    \"x\": 0, \\\n",
    "    \"y\": 1, \\\n",
    "    \"z\": 2 \\\n",
    "}\n",
    "print(variables[\"x\"])\n",
    "variables[\"y\"] = 10\n",
    "print(variables[\"y\"])"
   ],
   "metadata": {
    "collapsed": false,
    "ExecuteTime": {
     "end_time": "2024-02-20T06:23:46.302698569Z",
     "start_time": "2024-02-20T06:23:45.896567731Z"
    }
   },
   "id": "a7524f4d9bdd6bed",
   "execution_count": 32
  },
  {
   "cell_type": "markdown",
   "source": [
    "1.3.4 Lists"
   ],
   "metadata": {
    "collapsed": false
   },
   "id": "506bfdf21e7e47fa"
  },
  {
   "cell_type": "code",
   "outputs": [
    {
     "name": "stdout",
     "output_type": "stream",
     "text": [
      "5\n",
      "3\n",
      "7\n"
     ]
    }
   ],
   "source": [
    "list = [5,3,7]\n",
    "print(list[0])\n",
    "print(list[1])\n",
    "print(list[2])"
   ],
   "metadata": {
    "collapsed": false,
    "ExecuteTime": {
     "end_time": "2024-02-20T06:23:46.709534080Z",
     "start_time": "2024-02-20T06:23:46.301926244Z"
    }
   },
   "id": "4db4d6ae2bffa073",
   "execution_count": 33
  },
  {
   "cell_type": "code",
   "outputs": [
    {
     "name": "stdout",
     "output_type": "stream",
     "text": [
      "7\n"
     ]
    }
   ],
   "source": [
    "list = [5,3,7]\n",
    "print(list[-1])"
   ],
   "metadata": {
    "collapsed": false,
    "ExecuteTime": {
     "end_time": "2024-02-20T06:23:47.117525238Z",
     "start_time": "2024-02-20T06:23:46.701786308Z"
    }
   },
   "id": "63da4413fd1a717c",
   "execution_count": 34
  },
  {
   "cell_type": "code",
   "outputs": [
    {
     "name": "stdout",
     "output_type": "stream",
     "text": [
      "[5, 9, 7]\n"
     ]
    }
   ],
   "source": [
    "list[1] = 9\n",
    "print(list)"
   ],
   "metadata": {
    "collapsed": false,
    "ExecuteTime": {
     "end_time": "2024-02-20T06:23:47.529940556Z",
     "start_time": "2024-02-20T06:23:47.116815702Z"
    }
   },
   "id": "86d1684b5c0aff37",
   "execution_count": 35
  },
  {
   "cell_type": "code",
   "outputs": [
    {
     "name": "stdout",
     "output_type": "stream",
     "text": [
      "[5, 9, 7, 10]\n"
     ]
    }
   ],
   "source": [
    "list.append(10)\n",
    "print(list)"
   ],
   "metadata": {
    "collapsed": false,
    "ExecuteTime": {
     "end_time": "2024-02-20T06:23:47.984112149Z",
     "start_time": "2024-02-20T06:23:47.527840931Z"
    }
   },
   "id": "3d0b56df789ee48f",
   "execution_count": 36
  },
  {
   "cell_type": "code",
   "outputs": [
    {
     "name": "stdout",
     "output_type": "stream",
     "text": [
      "6\n"
     ]
    }
   ],
   "source": [
    "grades = [9.0, 6.7, 8.5, 7.6, 9.8, 7.0]\n",
    "n = len(grades)\n",
    "print(n)"
   ],
   "metadata": {
    "collapsed": false,
    "ExecuteTime": {
     "end_time": "2024-02-20T06:23:48.432310857Z",
     "start_time": "2024-02-20T06:23:47.984282007Z"
    }
   },
   "id": "841284d6239e11cb",
   "execution_count": 37
  },
  {
   "cell_type": "code",
   "outputs": [
    {
     "name": "stdout",
     "output_type": "stream",
     "text": [
      "[9.0, 6.7, 8.5, 7.6, 9.8, 7.0, 9.0, 6.7, 8.5, 7.6, 9.8, 7.0]\n"
     ]
    }
   ],
   "source": [
    "grades = grades + [9.0, 6.7, 8.5, 7.6, 9.8, 7.0]\n",
    "print(grades)"
   ],
   "metadata": {
    "collapsed": false,
    "ExecuteTime": {
     "end_time": "2024-02-20T06:23:48.783129134Z",
     "start_time": "2024-02-20T06:23:48.416677317Z"
    }
   },
   "id": "c58aa5f78d8f8a0a",
   "execution_count": 38
  },
  {
   "cell_type": "code",
   "outputs": [
    {
     "name": "stdout",
     "output_type": "stream",
     "text": [
      "[8.5, 7.6, 9.8]\n"
     ]
    }
   ],
   "source": [
    "print(grades[2:5])"
   ],
   "metadata": {
    "collapsed": false,
    "ExecuteTime": {
     "end_time": "2024-02-20T06:23:49.177041931Z",
     "start_time": "2024-02-20T06:23:48.785114913Z"
    }
   },
   "id": "7e73af50f501e793",
   "execution_count": 39
  },
  {
   "cell_type": "code",
   "outputs": [
    {
     "name": "stdout",
     "output_type": "stream",
     "text": [
      "[9, 10, 8, 7, 9, 7]\n",
      "[9, 10, 8, 7, 9, 7]\n"
     ]
    }
   ],
   "source": [
    "list2 = [9,6,8,7,9,7]\n",
    "list1 = list2\n",
    "list2[1] = 10\n",
    "print(list1)\n",
    "print(list2)"
   ],
   "metadata": {
    "collapsed": false,
    "ExecuteTime": {
     "end_time": "2024-02-20T06:23:49.635148313Z",
     "start_time": "2024-02-20T06:23:49.182370469Z"
    }
   },
   "id": "fe00c92117e370de",
   "execution_count": 40
  },
  {
   "cell_type": "code",
   "outputs": [
    {
     "name": "stdout",
     "output_type": "stream",
     "text": [
      "[9, 6, 8, 7, 9, 7]\n",
      "[9, 10, 8, 7, 9, 7]\n"
     ]
    }
   ],
   "source": [
    "list2 = [9,6,8,7,9,7]\n",
    "list1 = list2[:]\n",
    "list2[1] = 10\n",
    "print(list1)\n",
    "print(list2)"
   ],
   "metadata": {
    "collapsed": false,
    "ExecuteTime": {
     "end_time": "2024-02-20T06:23:50.193013576Z",
     "start_time": "2024-02-20T06:23:49.634501077Z"
    }
   },
   "id": "4866973b6d02b979",
   "execution_count": 41
  },
  {
   "cell_type": "code",
   "outputs": [
    {
     "name": "stdout",
     "output_type": "stream",
     "text": [
      "[9, 6, 8, 7, 1, 2, 3]\n"
     ]
    }
   ],
   "source": [
    "list1 = [9,6,8,7]\n",
    "list2 = [1,2,3]\n",
    "list3 = list1 + list2\n",
    "print(list3)"
   ],
   "metadata": {
    "collapsed": false,
    "ExecuteTime": {
     "end_time": "2024-02-20T06:23:50.595056197Z",
     "start_time": "2024-02-20T06:23:50.186370664Z"
    }
   },
   "id": "14d1d751b58307a6",
   "execution_count": 42
  },
  {
   "cell_type": "markdown",
   "source": [
    "1.3.5 Lists of lists"
   ],
   "metadata": {
    "collapsed": false
   },
   "id": "983d7e86f4cb67f6"
  },
  {
   "cell_type": "code",
   "outputs": [
    {
     "name": "stdout",
     "output_type": "stream",
     "text": [
      "[[1, 2], [3, 4]]\n"
     ]
    }
   ],
   "source": [
    "A = [[1,2],[3,4]]\n",
    "print(A)"
   ],
   "metadata": {
    "collapsed": false,
    "ExecuteTime": {
     "end_time": "2024-02-20T06:23:51.012974417Z",
     "start_time": "2024-02-20T06:23:50.594371665Z"
    }
   },
   "id": "43dfe4e33e8c29e7",
   "execution_count": 43
  },
  {
   "cell_type": "code",
   "outputs": [
    {
     "name": "stdout",
     "output_type": "stream",
     "text": [
      "2\n"
     ]
    }
   ],
   "source": [
    "a12 = A[0][1]\n",
    "print(a12)"
   ],
   "metadata": {
    "collapsed": false,
    "ExecuteTime": {
     "end_time": "2024-02-20T06:23:51.422860802Z",
     "start_time": "2024-02-20T06:23:51.010455110Z"
    }
   },
   "id": "b62519514deb6b82",
   "execution_count": 44
  },
  {
   "cell_type": "markdown",
   "source": [
    "1.4.1 for loops"
   ],
   "metadata": {
    "collapsed": false
   },
   "id": "bc0c4d6387771c53"
  },
  {
   "cell_type": "code",
   "outputs": [
    {
     "name": "stdout",
     "output_type": "stream",
     "text": [
      "Hello world!\n",
      "Hello world!\n",
      "Hello world!\n"
     ]
    }
   ],
   "source": [
    "for i in [0,1,2]:\n",
    "    print('Hello world!')"
   ],
   "metadata": {
    "collapsed": false,
    "ExecuteTime": {
     "end_time": "2024-02-20T06:23:51.896054642Z",
     "start_time": "2024-02-20T06:23:51.422070947Z"
    }
   },
   "id": "3a575d0fbe2ede8",
   "execution_count": 45
  },
  {
   "cell_type": "code",
   "outputs": [
    {
     "name": "stdout",
     "output_type": "stream",
     "text": [
      "0\n",
      "1\n",
      "2\n"
     ]
    }
   ],
   "source": [
    "for i in [0,1,2]:\n",
    "    print(i)"
   ],
   "metadata": {
    "collapsed": false,
    "ExecuteTime": {
     "end_time": "2024-02-20T06:23:52.293146435Z",
     "start_time": "2024-02-20T06:23:51.898130237Z"
    }
   },
   "id": "8ae2f5d2129f4c74",
   "execution_count": 46
  },
  {
   "cell_type": "code",
   "outputs": [
    {
     "name": "stdout",
     "output_type": "stream",
     "text": [
      "cat\n",
      "dog\n",
      "bird\n"
     ]
    }
   ],
   "source": [
    "for animal in ['cat','dog','bird']:\n",
    "    print(animal)"
   ],
   "metadata": {
    "collapsed": false,
    "ExecuteTime": {
     "end_time": "2024-02-20T06:23:52.764483724Z",
     "start_time": "2024-02-20T06:23:52.471458587Z"
    }
   },
   "id": "19caacf5cc48637c",
   "execution_count": 47
  },
  {
   "cell_type": "code",
   "outputs": [
    {
     "name": "stdout",
     "output_type": "stream",
     "text": [
      "0\n",
      "1\n",
      "2\n"
     ]
    }
   ],
   "source": [
    "for i in range(3):\n",
    "    print(i)"
   ],
   "metadata": {
    "collapsed": false,
    "ExecuteTime": {
     "end_time": "2024-02-20T06:23:53.540794041Z",
     "start_time": "2024-02-20T06:23:52.770379101Z"
    }
   },
   "id": "5845be9836f619dd",
   "execution_count": 48
  },
  {
   "cell_type": "markdown",
   "source": [
    "1.4.2 Useful applications\n",
    "\n",
    "Algorithm 1 Summation of many numbers\n",
    "-------------------------------------------------------------------------------------------------------------------------------------------------------------------\n",
    "sum = 0\n",
    "for i = 1: n do\n",
    "    sum = sum + i\n",
    "end for\n",
    "-------------------------------------------------------------------------------------------------------------------------------------------------------------------"
   ],
   "metadata": {
    "collapsed": false
   },
   "id": "4cd0433b07f9997"
  },
  {
   "cell_type": "code",
   "outputs": [
    {
     "name": "stdout",
     "output_type": "stream",
     "text": [
      "5050\n"
     ]
    }
   ],
   "source": [
    "sum = 0\n",
    "for i in range (1,101):\n",
    "    sum = sum + i\n",
    "print(sum)"
   ],
   "metadata": {
    "collapsed": false,
    "ExecuteTime": {
     "end_time": "2024-02-20T06:23:53.773292522Z",
     "start_time": "2024-02-20T06:23:53.535975366Z"
    }
   },
   "id": "973f9760dcf66842",
   "execution_count": 49
  },
  {
   "cell_type": "code",
   "outputs": [
    {
     "name": "stdout",
     "output_type": "stream",
     "text": [
      "[0.0, 0.25, 0.5, 0.75, 1.0]\n"
     ]
    }
   ],
   "source": [
    "a= 0.0; b = 1.0;\n",
    "N = 4 # the number of subintervals\n",
    "h = (b-a)/float (N) #the grid -size\n",
    "x = 0.0 # the starting node\n",
    "mesh = [x]\n",
    "for i in range (N):\n",
    "    x = x + h\n",
    "    mesh.append(x)\n",
    "print(mesh)"
   ],
   "metadata": {
    "collapsed": false,
    "ExecuteTime": {
     "end_time": "2024-02-20T06:23:54.247326015Z",
     "start_time": "2024-02-20T06:23:53.773761168Z"
    }
   },
   "id": "a37941c937c74014",
   "execution_count": 50
  },
  {
   "cell_type": "markdown",
   "source": [
    "Nested loops"
   ],
   "metadata": {
    "collapsed": false
   },
   "id": "3de9f31205ce9c5b"
  },
  {
   "cell_type": "code",
   "outputs": [
    {
     "name": "stdout",
     "output_type": "stream",
     "text": [
      "11\n",
      "12\n",
      "13\n",
      "21\n",
      "22\n",
      "23\n",
      "31\n",
      "32\n",
      "33\n"
     ]
    }
   ],
   "source": [
    "A = [[11, 12, 13], \\\n",
    "     [21, 22, 23], \\\n",
    "     [31, 32, 33]]\n",
    "# The \\ at the end of each row indicate a line break\n",
    "# and the code continues in the next line\n",
    "for i in range (3):\n",
    "    for j in range (3):\n",
    "        print( A[i][j])"
   ],
   "metadata": {
    "collapsed": false,
    "ExecuteTime": {
     "end_time": "2024-02-20T06:23:54.654466370Z",
     "start_time": "2024-02-20T06:23:54.251640772Z"
    }
   },
   "id": "cafe7acd6001111a",
   "execution_count": 51
  },
  {
   "cell_type": "markdown",
   "source": [
    "1.4.3 Boolean type of variables"
   ],
   "metadata": {
    "collapsed": false
   },
   "id": "3bb881155fbb2dec"
  },
  {
   "cell_type": "code",
   "outputs": [],
   "source": [
    "a = 1<2\n",
    "print(a)"
   ],
   "metadata": {
    "collapsed": false,
    "is_executing": true
   },
   "id": "c82c5b329b15d3b6",
   "execution_count": null
  },
  {
   "cell_type": "code",
   "outputs": [
    {
     "name": "stdout",
     "output_type": "stream",
     "text": [
      "True\n",
      "False\n"
     ]
    }
   ],
   "source": [
    "print(1==1)\n",
    "print(1!=1)"
   ],
   "metadata": {
    "collapsed": false,
    "ExecuteTime": {
     "end_time": "2024-03-07T22:41:08.787318480Z",
     "start_time": "2024-03-07T22:41:08.662794971Z"
    }
   },
   "id": "c871138f9d1839c6",
   "execution_count": 1
  },
  {
   "cell_type": "markdown",
   "source": [
    "1.4.4 while loops"
   ],
   "metadata": {
    "collapsed": false
   },
   "id": "77db5a109d256fdd"
  },
  {
   "cell_type": "markdown",
   "source": [
    "Infinite Loop--------------------------------NOT EXECUTE--------------------\n",
    "cond = True\n",
    "counter = 0\n",
    "while cond:\n",
    "    print(counter)\n",
    "    counter +=1"
   ],
   "metadata": {
    "collapsed": false
   },
   "id": "65cbbe1ab4ab4ad6"
  },
  {
   "cell_type": "code",
   "outputs": [
    {
     "name": "stdout",
     "output_type": "stream",
     "text": [
      "1\n",
      "2\n",
      "3\n"
     ]
    }
   ],
   "source": [
    "i = 1\n",
    "while i <= 3:\n",
    "    print(i)\n",
    "    i = i+1"
   ],
   "metadata": {
    "collapsed": false,
    "ExecuteTime": {
     "end_time": "2024-03-07T22:41:15.383543900Z",
     "start_time": "2024-03-07T22:41:15.363476224Z"
    }
   },
   "id": "504cf9f6973316c3",
   "execution_count": 2
  },
  {
   "cell_type": "markdown",
   "source": [
    "#1.4.5 Decisions and the if statement"
   ],
   "metadata": {
    "collapsed": false
   },
   "id": "af4cd7edf113248b"
  },
  {
   "cell_type": "code",
   "outputs": [],
   "source": [
    "\"\"\"\n",
    "x = int (input('GIve me x = '))\n",
    "if x != 0:\n",
    "    print(10/x)\n",
    "\"\"\""
   ],
   "metadata": {
    "collapsed": false,
    "ExecuteTime": {
     "end_time": "2024-03-08T00:05:34.533399821Z",
     "start_time": "2024-03-08T00:05:34.484695748Z"
    }
   },
   "id": "9b1b897f39f92bd4",
   "execution_count": 8
  },
  {
   "cell_type": "code",
   "outputs": [
    {
     "data": {
      "text/plain": "'\"\\nx = int (input(\\'Give me x = \\'))\\nif x != 0:\\n    print(10/x)\\nelse:\\n    print(\\'Division imposible\\')\\n'"
     },
     "execution_count": 12,
     "metadata": {},
     "output_type": "execute_result"
    }
   ],
   "source": [
    "\"\"\"\"\n",
    "x = int (input('Give me x = '))\n",
    "if x != 0:\n",
    "    print(10/x)\n",
    "else:\n",
    "    print('Division imposible')\n",
    "\"\"\""
   ],
   "metadata": {
    "collapsed": false,
    "ExecuteTime": {
     "end_time": "2024-03-08T00:28:20.810250582Z",
     "start_time": "2024-03-08T00:28:19.621335006Z"
    }
   },
   "id": "d04889df1185fec3",
   "execution_count": 12
  },
  {
   "cell_type": "code",
   "outputs": [
    {
     "name": "stdout",
     "output_type": "stream",
     "text": [
      "sign(x) = 0\n"
     ]
    }
   ],
   "source": [
    "\"\"\"\n",
    "x = int (input('Give me x = '))\n",
    "if x > 0:\n",
    "    print('sign(x) = +1')\n",
    "elif x < 0:\n",
    "    print('sign(x) = -1')\n",
    "else:\n",
    "    print('sign(x) = 0')\n",
    "\"\"\""
   ],
   "metadata": {
    "collapsed": false,
    "ExecuteTime": {
     "end_time": "2024-03-08T00:35:01.018526736Z",
     "start_time": "2024-03-08T00:34:51.573396058Z"
    }
   },
   "id": "ed093f6d52936a17",
   "execution_count": 15
  },
  {
   "cell_type": "code",
   "outputs": [
    {
     "name": "stdout",
     "output_type": "stream",
     "text": [
      "x is not in the interval [0,10]\n"
     ]
    }
   ],
   "source": [
    "\"\"\"\"\n",
    "x = int (input('Give me x = '))\n",
    "if x < 0 or x > 10 :\n",
    "    print ('x is outside from the interval [0,10]')\n",
    "else:\n",
    "    print('x is not in the interval [0,10]')\n",
    "\"\"\"\""
   ],
   "metadata": {
    "collapsed": false,
    "ExecuteTime": {
     "end_time": "2024-03-08T02:39:02.038391529Z",
     "start_time": "2024-03-08T02:38:58.058260176Z"
    }
   },
   "id": "46793f8d73ca2f5b",
   "execution_count": 21
  },
  {
   "cell_type": "code",
   "outputs": [
    {
     "name": "stdout",
     "output_type": "stream",
     "text": [
      "x is in the interval [0,10]\n"
     ]
    }
   ],
   "source": [
    "\"\"\"\"\n",
    "x = int (input('Give me x = '))\n",
    "if not (x < 0 or x > 10 ):\n",
    "    print ('x is in the interval [0,10]')\n",
    "else:\n",
    "    print('x is outside from the interval [0,10]')\n",
    "\"\"\"\""
   ],
   "metadata": {
    "collapsed": false,
    "ExecuteTime": {
     "end_time": "2024-03-08T02:41:31.065657736Z",
     "start_time": "2024-03-08T02:41:23.943326407Z"
    }
   },
   "id": "945d2b35c0e40719",
   "execution_count": 22
  },
  {
   "cell_type": "markdown",
   "source": [
    "##1.4.6 Error control and exceptions"
   ],
   "metadata": {
    "collapsed": false
   },
   "id": "30da37863d917b8e"
  },
  {
   "cell_type": "code",
   "outputs": [
    {
     "name": "stdout",
     "output_type": "stream",
     "text": [
      "The division is impossible\n",
      "5.0\n"
     ]
    }
   ],
   "source": [
    "x = 0\n",
    "try:\n",
    "    print(10/x)\n",
    "except:\n",
    "    print('The division is impossible')\n",
    "x = 2\n",
    "try:\n",
    "    print(10/x)\n",
    "except:\n",
    "    print('The division is impossible')"
   ],
   "metadata": {
    "collapsed": false,
    "ExecuteTime": {
     "end_time": "2024-03-08T03:03:28.841089328Z",
     "start_time": "2024-03-08T03:03:28.824821070Z"
    }
   },
   "id": "e70b6ecb98bafe5c",
   "execution_count": 37
  },
  {
   "cell_type": "markdown",
   "source": [
    "## == 1.4.7 The command break"
   ],
   "metadata": {
    "collapsed": false
   },
   "id": "5bd96867f7c0bc33"
  },
  {
   "cell_type": "code",
   "outputs": [
    {
     "name": "stdout",
     "output_type": "stream",
     "text": [
      "0\n",
      "1\n",
      "2\n",
      "3\n",
      "4\n",
      "5\n"
     ]
    }
   ],
   "source": [
    "for i in range (10):\n",
    "    print(i)\n",
    "    if i == 5:\n",
    "        break"
   ],
   "metadata": {
    "collapsed": false,
    "ExecuteTime": {
     "end_time": "2024-03-24T16:11:33.469397609Z",
     "start_time": "2024-03-24T16:11:33.438723490Z"
    }
   },
   "id": "50045530835ecb7c",
   "execution_count": 1
  },
  {
   "cell_type": "markdown",
   "source": [
    "## = Functions"
   ],
   "metadata": {
    "collapsed": false
   },
   "id": "77006f2719ac042e"
  },
  {
   "cell_type": "code",
   "outputs": [],
   "source": [
    "def double(x):\n",
    "    y = 2 * x\n",
    "    return y"
   ],
   "metadata": {
    "collapsed": false,
    "is_executing": true
   },
   "id": "f44df945463a1328",
   "execution_count": null
  }
 ],
 "metadata": {
  "kernelspec": {
   "display_name": "Python 3",
   "language": "python",
   "name": "python3"
  },
  "language_info": {
   "codemirror_mode": {
    "name": "ipython",
    "version": 2
   },
   "file_extension": ".py",
   "mimetype": "text/x-python",
   "name": "python",
   "nbconvert_exporter": "python",
   "pygments_lexer": "ipython2",
   "version": "2.7.6"
  }
 },
 "nbformat": 4,
 "nbformat_minor": 5
}
