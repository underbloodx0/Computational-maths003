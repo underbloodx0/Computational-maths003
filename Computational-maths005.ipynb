{
 "cells": [
  {
   "cell_type": "markdown",
   "source": [
    "1.3 Strings, Tuples, Dictionaries and Lists"
   ],
   "metadata": {
    "collapsed": false
   },
   "id": "725d9130ce08b0b7"
  },
  {
   "cell_type": "code",
   "outputs": [
    {
     "name": "stdout",
     "output_type": "stream",
     "text": [
      "Hello World\n"
     ]
    }
   ],
   "source": [
    "print('Hello World')"
   ],
   "metadata": {
    "collapsed": false,
    "ExecuteTime": {
     "end_time": "2024-02-16T02:43:41.213317179Z",
     "start_time": "2024-02-16T02:43:40.232234258Z"
    }
   },
   "id": "5aa3699944ccae48",
   "execution_count": 2
  },
  {
   "cell_type": "code",
   "outputs": [
    {
     "name": "stdout",
     "output_type": "stream",
     "text": [
      "James Bond\n"
     ]
    }
   ],
   "source": [
    "my_name = 'James'\n",
    "my_lastname = 'Bond'\n",
    "full_name = my_name + ' ' + my_lastname\n",
    "print(full_name)"
   ],
   "metadata": {
    "collapsed": false,
    "ExecuteTime": {
     "end_time": "2024-02-16T02:43:42.651235297Z",
     "start_time": "2024-02-16T02:43:41.275369879Z"
    }
   },
   "id": "88b2637d884fbe07",
   "execution_count": 3
  },
  {
   "cell_type": "code",
   "outputs": [
    {
     "name": "stdout",
     "output_type": "stream",
     "text": [
      "James\n",
      "James\n",
      "James\n",
      "es\n"
     ]
    }
   ],
   "source": [
    "my_name = 'James'\n",
    "print (my_name[:])\n",
    "print(my_name[0:5])\n",
    "print(my_name[:5])\n",
    "print(my_name[3:])"
   ],
   "metadata": {
    "collapsed": false,
    "ExecuteTime": {
     "end_time": "2024-02-16T02:43:42.988945240Z",
     "start_time": "2024-02-16T02:43:41.357503384Z"
    }
   },
   "id": "952e4ef17150e2bc",
   "execution_count": 4
  },
  {
   "cell_type": "markdown",
   "source": [
    "1.3.2 Tupĺes"
   ],
   "metadata": {
    "collapsed": false
   },
   "id": "f30feeffb9ea507a"
  },
  {
   "cell_type": "code",
   "outputs": [
    {
     "name": "stdout",
     "output_type": "stream",
     "text": [
      "2\n",
      "Hi\n"
     ]
    }
   ],
   "source": [
    "x = (2, 'Hi')\n",
    "print(x[0])\n",
    "print(x[1])"
   ],
   "metadata": {
    "collapsed": false,
    "ExecuteTime": {
     "end_time": "2024-02-16T02:43:43.045473421Z",
     "start_time": "2024-02-16T02:43:42.669683397Z"
    }
   },
   "id": "d85c84971b39a311",
   "execution_count": 5
  },
  {
   "cell_type": "markdown",
   "source": [
    "1.3.3 Dictionaries"
   ],
   "metadata": {
    "collapsed": false
   },
   "id": "f3311e8f163e3542"
  },
  {
   "cell_type": "code",
   "outputs": [
    {
     "name": "stdout",
     "output_type": "stream",
     "text": [
      "0\n",
      "10\n"
     ]
    }
   ],
   "source": [
    "variables = { \\\n",
    "    \"x\": 0, \\\n",
    "    \"y\": 1, \\\n",
    "    \"z\": 2 \\\n",
    "}\n",
    "print(variables[\"x\"])\n",
    "variables[\"y\"] = 10\n",
    "print(variables[\"y\"])"
   ],
   "metadata": {
    "collapsed": false,
    "ExecuteTime": {
     "end_time": "2024-02-16T02:43:43.447628228Z",
     "start_time": "2024-02-16T02:43:43.101015175Z"
    }
   },
   "id": "a7524f4d9bdd6bed",
   "execution_count": 6
  },
  {
   "cell_type": "markdown",
   "source": [
    "1.3.4 Lists"
   ],
   "metadata": {
    "collapsed": false
   },
   "id": "506bfdf21e7e47fa"
  },
  {
   "cell_type": "code",
   "outputs": [
    {
     "name": "stdout",
     "output_type": "stream",
     "text": [
      "5\n",
      "3\n",
      "7\n"
     ]
    }
   ],
   "source": [
    "list = [5,3,7]\n",
    "print(list[0])\n",
    "print(list[1])\n",
    "print(list[2])"
   ],
   "metadata": {
    "collapsed": false,
    "ExecuteTime": {
     "end_time": "2024-02-16T02:43:43.712878423Z",
     "start_time": "2024-02-16T02:43:43.462018129Z"
    }
   },
   "id": "4db4d6ae2bffa073",
   "execution_count": 7
  },
  {
   "cell_type": "code",
   "outputs": [
    {
     "name": "stdout",
     "output_type": "stream",
     "text": [
      "7\n"
     ]
    }
   ],
   "source": [
    "list = [5,3,7]\n",
    "print(list[-1])"
   ],
   "metadata": {
    "collapsed": false,
    "ExecuteTime": {
     "end_time": "2024-02-16T02:43:44.123754538Z",
     "start_time": "2024-02-16T02:43:43.723143047Z"
    }
   },
   "id": "63da4413fd1a717c",
   "execution_count": 8
  },
  {
   "cell_type": "code",
   "outputs": [
    {
     "name": "stdout",
     "output_type": "stream",
     "text": [
      "[5, 9, 7]\n"
     ]
    }
   ],
   "source": [
    "list[1] = 9\n",
    "print(list)"
   ],
   "metadata": {
    "collapsed": false,
    "ExecuteTime": {
     "end_time": "2024-02-16T02:43:44.365989383Z",
     "start_time": "2024-02-16T02:43:43.937807624Z"
    }
   },
   "id": "86d1684b5c0aff37",
   "execution_count": 9
  },
  {
   "cell_type": "code",
   "outputs": [
    {
     "name": "stdout",
     "output_type": "stream",
     "text": [
      "[5, 9, 7, 10]\n"
     ]
    }
   ],
   "source": [
    "list.append(10)\n",
    "print(list)"
   ],
   "metadata": {
    "collapsed": false,
    "ExecuteTime": {
     "end_time": "2024-02-16T02:43:44.769995437Z",
     "start_time": "2024-02-16T02:43:44.502813581Z"
    }
   },
   "id": "3d0b56df789ee48f",
   "execution_count": 10
  },
  {
   "cell_type": "code",
   "outputs": [
    {
     "name": "stdout",
     "output_type": "stream",
     "text": [
      "6\n"
     ]
    }
   ],
   "source": [
    "grades = [9.0, 6.7, 8.5, 7.6, 9.8, 7.0]\n",
    "n = len(grades)\n",
    "print(n)"
   ],
   "metadata": {
    "collapsed": false,
    "ExecuteTime": {
     "end_time": "2024-02-16T02:43:46.237841213Z",
     "start_time": "2024-02-16T02:43:45.018817171Z"
    }
   },
   "id": "841284d6239e11cb",
   "execution_count": 11
  },
  {
   "cell_type": "code",
   "outputs": [
    {
     "name": "stdout",
     "output_type": "stream",
     "text": [
      "[9.0, 6.7, 8.5, 7.6, 9.8, 7.0, 9.0, 6.7, 8.5, 7.6, 9.8, 7.0]\n"
     ]
    }
   ],
   "source": [
    "grades = grades + [9.0, 6.7, 8.5, 7.6, 9.8, 7.0]\n",
    "print(grades)"
   ],
   "metadata": {
    "collapsed": false,
    "ExecuteTime": {
     "end_time": "2024-02-16T02:43:46.385335072Z",
     "start_time": "2024-02-16T02:43:45.045228577Z"
    }
   },
   "id": "c58aa5f78d8f8a0a",
   "execution_count": 12
  },
  {
   "cell_type": "code",
   "outputs": [
    {
     "name": "stdout",
     "output_type": "stream",
     "text": [
      "[8.5, 7.6, 9.8]\n"
     ]
    }
   ],
   "source": [
    "print(grades[2:5])"
   ],
   "metadata": {
    "collapsed": false,
    "ExecuteTime": {
     "end_time": "2024-02-16T02:43:46.606027528Z",
     "start_time": "2024-02-16T02:43:46.255473450Z"
    }
   },
   "id": "7e73af50f501e793",
   "execution_count": 13
  },
  {
   "cell_type": "code",
   "outputs": [
    {
     "name": "stdout",
     "output_type": "stream",
     "text": [
      "[9, 10, 8, 7, 9, 7]\n",
      "[9, 10, 8, 7, 9, 7]\n"
     ]
    }
   ],
   "source": [
    "list2 = [9,6,8,7,9,7]\n",
    "list1 = list2\n",
    "list2[1] = 10\n",
    "print(list1)\n",
    "print(list2)"
   ],
   "metadata": {
    "collapsed": false,
    "ExecuteTime": {
     "end_time": "2024-02-16T02:43:46.732339959Z",
     "start_time": "2024-02-16T02:43:46.571090085Z"
    }
   },
   "id": "fe00c92117e370de",
   "execution_count": 14
  },
  {
   "cell_type": "code",
   "outputs": [
    {
     "name": "stdout",
     "output_type": "stream",
     "text": [
      "[9, 6, 8, 7, 9, 7]\n",
      "[9, 10, 8, 7, 9, 7]\n"
     ]
    }
   ],
   "source": [
    "list2 = [9,6,8,7,9,7]\n",
    "list1 = list2[:]\n",
    "list2[1] = 10\n",
    "print(list1)\n",
    "print(list2)"
   ],
   "metadata": {
    "collapsed": false,
    "ExecuteTime": {
     "end_time": "2024-02-16T02:43:47.979102909Z",
     "start_time": "2024-02-16T02:43:46.803920758Z"
    }
   },
   "id": "4866973b6d02b979",
   "execution_count": 15
  },
  {
   "cell_type": "code",
   "outputs": [
    {
     "name": "stdout",
     "output_type": "stream",
     "text": [
      "[9, 6, 8, 7, 1, 2, 3]\n"
     ]
    }
   ],
   "source": [
    "list1 = [9,6,8,7]\n",
    "list2 = [1,2,3]\n",
    "list3 = list1 + list2\n",
    "print(list3)"
   ],
   "metadata": {
    "collapsed": false,
    "ExecuteTime": {
     "end_time": "2024-02-16T02:43:48.035129512Z",
     "start_time": "2024-02-16T02:43:47.897243811Z"
    }
   },
   "id": "14d1d751b58307a6",
   "execution_count": 16
  },
  {
   "cell_type": "markdown",
   "source": [
    "1.3.5 Lists of lists"
   ],
   "metadata": {
    "collapsed": false
   },
   "id": "983d7e86f4cb67f6"
  },
  {
   "cell_type": "code",
   "outputs": [
    {
     "name": "stdout",
     "output_type": "stream",
     "text": [
      "[[1, 2], [3, 4]]\n"
     ]
    }
   ],
   "source": [
    "A = [[1,2],[3,4]]\n",
    "print(A)"
   ],
   "metadata": {
    "collapsed": false,
    "ExecuteTime": {
     "end_time": "2024-02-16T02:43:48.428995973Z",
     "start_time": "2024-02-16T02:43:48.019264898Z"
    }
   },
   "id": "43dfe4e33e8c29e7",
   "execution_count": 17
  },
  {
   "cell_type": "code",
   "outputs": [
    {
     "name": "stdout",
     "output_type": "stream",
     "text": [
      "2\n"
     ]
    }
   ],
   "source": [
    "a12 = A[0][1]\n",
    "print(a12)"
   ],
   "metadata": {
    "collapsed": false,
    "ExecuteTime": {
     "end_time": "2024-02-16T02:43:48.992751375Z",
     "start_time": "2024-02-16T02:43:48.252227336Z"
    }
   },
   "id": "b62519514deb6b82",
   "execution_count": 18
  },
  {
   "cell_type": "markdown",
   "source": [
    "1.4.1 for loops"
   ],
   "metadata": {
    "collapsed": false
   },
   "id": "bc0c4d6387771c53"
  },
  {
   "cell_type": "code",
   "outputs": [
    {
     "name": "stdout",
     "output_type": "stream",
     "text": [
      "Hello world!\n",
      "Hello world!\n",
      "Hello world!\n"
     ]
    }
   ],
   "source": [
    "for i in [0,1,2]:\n",
    "    print('Hello world!')"
   ],
   "metadata": {
    "collapsed": false,
    "ExecuteTime": {
     "end_time": "2024-02-16T02:43:49.145574996Z",
     "start_time": "2024-02-16T02:43:48.772376799Z"
    }
   },
   "id": "3a575d0fbe2ede8",
   "execution_count": 19
  },
  {
   "cell_type": "code",
   "outputs": [
    {
     "name": "stdout",
     "output_type": "stream",
     "text": [
      "0\n",
      "1\n",
      "2\n"
     ]
    }
   ],
   "source": [
    "for i in [0,1,2]:\n",
    "    print(i)"
   ],
   "metadata": {
    "collapsed": false,
    "ExecuteTime": {
     "end_time": "2024-02-16T02:43:49.410727949Z",
     "start_time": "2024-02-16T02:43:49.110481359Z"
    }
   },
   "id": "8ae2f5d2129f4c74",
   "execution_count": 20
  },
  {
   "cell_type": "code",
   "outputs": [
    {
     "name": "stdout",
     "output_type": "stream",
     "text": [
      "cat\n",
      "dog\n",
      "bird\n"
     ]
    }
   ],
   "source": [
    "for animal in ['cat','dog','bird']:\n",
    "    print(animal)"
   ],
   "metadata": {
    "collapsed": false,
    "ExecuteTime": {
     "end_time": "2024-02-16T02:43:49.982758995Z",
     "start_time": "2024-02-16T02:43:49.373963543Z"
    }
   },
   "id": "19caacf5cc48637c",
   "execution_count": 21
  },
  {
   "cell_type": "code",
   "outputs": [
    {
     "name": "stdout",
     "output_type": "stream",
     "text": [
      "0\n",
      "1\n",
      "2\n"
     ]
    }
   ],
   "source": [
    "for i in range(3):\n",
    "    print(i)"
   ],
   "metadata": {
    "collapsed": false,
    "ExecuteTime": {
     "end_time": "2024-02-16T02:43:51.278123799Z",
     "start_time": "2024-02-16T02:43:49.785723603Z"
    }
   },
   "id": "5845be9836f619dd",
   "execution_count": 22
  },
  {
   "cell_type": "markdown",
   "source": [
    "1.4.2 Useful applications\n",
    "\n",
    "Algorithm 1 Summation of many numbers\n",
    "-------------------------------------------------------------------------------------------------------------------------------------------------------------------\n",
    "sum = 0\n",
    "for i = 1: n do\n",
    "    sum = sum + i\n",
    "end for\n",
    "-------------------------------------------------------------------------------------------------------------------------------------------------------------------"
   ],
   "metadata": {
    "collapsed": false
   },
   "id": "4cd0433b07f9997"
  },
  {
   "cell_type": "code",
   "outputs": [
    {
     "name": "stdout",
     "output_type": "stream",
     "text": [
      "5050\n"
     ]
    }
   ],
   "source": [
    "sum = 0\n",
    "for i in range (1,101):\n",
    "    sum = sum + i\n",
    "print(sum)"
   ],
   "metadata": {
    "collapsed": false,
    "ExecuteTime": {
     "end_time": "2024-02-16T02:43:51.286823887Z",
     "start_time": "2024-02-16T02:43:50.161754354Z"
    }
   },
   "id": "973f9760dcf66842",
   "execution_count": 23
  },
  {
   "cell_type": "code",
   "outputs": [
    {
     "name": "stdout",
     "output_type": "stream",
     "text": [
      "[0.0, 0.25, 0.5, 0.75, 1.0]\n"
     ]
    }
   ],
   "source": [
    "a= 0.0; b = 1.0;\n",
    "N = 4 # the number of subintervals\n",
    "h = (b-a)/float (N) #the grid -size\n",
    "x = 0.0 # the starting node\n",
    "mesh = [x]\n",
    "for i in range (N):\n",
    "    x = x + h\n",
    "    mesh.append(x)\n",
    "print(mesh)"
   ],
   "metadata": {
    "collapsed": false,
    "ExecuteTime": {
     "end_time": "2024-02-16T04:55:53.215957374Z",
     "start_time": "2024-02-16T04:55:52.632513753Z"
    }
   },
   "id": "a37941c937c74014",
   "execution_count": 26
  },
  {
   "cell_type": "markdown",
   "source": [
    "Nested loops"
   ],
   "metadata": {
    "collapsed": false
   },
   "id": "3de9f31205ce9c5b"
  },
  {
   "cell_type": "code",
   "outputs": [
    {
     "name": "stdout",
     "output_type": "stream",
     "text": [
      "11\n",
      "12\n",
      "13\n",
      "21\n",
      "22\n",
      "23\n",
      "31\n",
      "32\n",
      "33\n"
     ]
    }
   ],
   "source": [
    "A = [[11, 12, 13], \\\n",
    "     [21, 22, 23], \\\n",
    "     [31, 32, 33]]\n",
    "# The \\ at the end of each row indicate a line break\n",
    "# and the code continues in the next line\n",
    "for i in range (3):\n",
    "    for j in range (3):\n",
    "        print( A[i][j])"
   ],
   "metadata": {
    "collapsed": false,
    "ExecuteTime": {
     "end_time": "2024-02-16T05:11:24.548048888Z",
     "start_time": "2024-02-16T05:11:24.224810828Z"
    }
   },
   "id": "cafe7acd6001111a",
   "execution_count": 27
  }
 ],
 "metadata": {
  "kernelspec": {
   "display_name": "Python 3",
   "language": "python",
   "name": "python3"
  },
  "language_info": {
   "codemirror_mode": {
    "name": "ipython",
    "version": 2
   },
   "file_extension": ".py",
   "mimetype": "text/x-python",
   "name": "python",
   "nbconvert_exporter": "python",
   "pygments_lexer": "ipython2",
   "version": "2.7.6"
  }
 },
 "nbformat": 4,
 "nbformat_minor": 5
}
